{
 "cells": [
  {
   "cell_type": "markdown",
   "metadata": {},
   "source": [
    "# ch.5 오차 역전파 #"
   ]
  },
  {
   "cell_type": "code",
   "execution_count": 1,
   "metadata": {},
   "outputs": [],
   "source": [
    "import numpy as np\n",
    "import sys, os\n",
    "sys.path.append(os.getcwd())"
   ]
  },
  {
   "cell_type": "code",
   "execution_count": 2,
   "metadata": {},
   "outputs": [],
   "source": [
    "class MulLayer:\n",
    "    def __init__(self):\n",
    "        self.x = None\n",
    "        self.y = None\n",
    "        \n",
    "    def forward(self,x,y):\n",
    "        self.x = x\n",
    "        self.y = y\n",
    "        \n",
    "        return x*y\n",
    "    \n",
    "    def backward(self, dout): # 상류의 미분값\n",
    "        dx = dout * self.y\n",
    "        dy = dout * self.x\n",
    "        \n",
    "        return dx, dy\n",
    "        "
   ]
  },
  {
   "cell_type": "code",
   "execution_count": 3,
   "metadata": {},
   "outputs": [],
   "source": [
    "class AddLayer:\n",
    "    def __init__(self):\n",
    "        self.x = None\n",
    "        self.y = None\n",
    "        \n",
    "    def forward(self, x, y):\n",
    "        self.x = x\n",
    "        self.y = y\n",
    "        \n",
    "        return x+y\n",
    "    \n",
    "    def backward(self,dout):\n",
    "        dx = dout * 1\n",
    "        dy = dout * 1\n",
    "        \n",
    "        return dx, dy"
   ]
  },
  {
   "cell_type": "markdown",
   "metadata": {},
   "source": [
    "### 덧셈계층와 곱셈계층 예제 ###"
   ]
  },
  {
   "cell_type": "code",
   "execution_count": 4,
   "metadata": {},
   "outputs": [],
   "source": [
    "# buy_apple_orange\n",
    "\n",
    "apple_num = 2\n",
    "apple_price = 100\n",
    "mandarin_num = 3\n",
    "mandarin_price = 150\n",
    "tax = 1.1\n",
    "\n",
    "apple_layer = MulLayer()\n",
    "mandarin_layer = MulLayer()\n",
    "\n",
    "sum_layer = AddLayer()\n",
    "\n",
    "tax_layer = MulLayer()"
   ]
  },
  {
   "cell_type": "code",
   "execution_count": 5,
   "metadata": {},
   "outputs": [],
   "source": [
    "# 순전파\n",
    "apple = apple_layer.forward(apple_num, apple_price)\n",
    "mandarin = mandarin_layer.forward(mandarin_num, mandarin_price)\n",
    "all_price = sum_layer.forward(apple, mandarin)\n",
    "price = tax_layer.forward(tax, all_price)"
   ]
  },
  {
   "cell_type": "code",
   "execution_count": 6,
   "metadata": {},
   "outputs": [
    {
     "data": {
      "text/plain": [
       "715.0000000000001"
      ]
     },
     "execution_count": 6,
     "metadata": {},
     "output_type": "execute_result"
    }
   ],
   "source": [
    "price"
   ]
  },
  {
   "cell_type": "code",
   "execution_count": 7,
   "metadata": {},
   "outputs": [],
   "source": [
    "# 역전파\n",
    "dprice = 1\n",
    "dtax, dall_price = tax_layer.backward(dprice)\n",
    "dapple, dmandarin = sum_layer.backward(dall_price)\n",
    "dapple_num, dapple_price = apple_layer.backward(dapple)\n",
    "dmandarin_num, dmandarin_price = mandarin_layer.backward(dmandarin)"
   ]
  },
  {
   "cell_type": "code",
   "execution_count": 8,
   "metadata": {},
   "outputs": [
    {
     "data": {
      "text/plain": [
       "(165.0, 3.3000000000000003)"
      ]
     },
     "execution_count": 8,
     "metadata": {},
     "output_type": "execute_result"
    }
   ],
   "source": [
    "dmandarin_num, dmandarin_price"
   ]
  },
  {
   "cell_type": "code",
   "execution_count": 9,
   "metadata": {},
   "outputs": [
    {
     "data": {
      "text/plain": [
       "(110.00000000000001, 2.2)"
      ]
     },
     "execution_count": 9,
     "metadata": {},
     "output_type": "execute_result"
    }
   ],
   "source": [
    "dapple_num, dapple_price"
   ]
  },
  {
   "cell_type": "code",
   "execution_count": 20,
   "metadata": {},
   "outputs": [
    {
     "data": {
      "text/plain": [
       "(650, 1.1)"
      ]
     },
     "execution_count": 20,
     "metadata": {},
     "output_type": "execute_result"
    }
   ],
   "source": [
    "dtax, dall_price"
   ]
  },
  {
   "cell_type": "code",
   "execution_count": 2,
   "metadata": {},
   "outputs": [],
   "source": [
    "class ReLu:\n",
    "    # np.array 형태의 input, output을 가정\n",
    "    def __init__(self):\n",
    "        self.mask = None # 0보다 큰지 작은지 저장\n",
    "        \n",
    "    def forward(self,x):\n",
    "        self.mask = (x <= 0)\n",
    "        out = x.copy()  # shallow copy\n",
    "        out[self.mask] = 0 # mask 가 true일때 0을 return 하도록\n",
    "        \n",
    "        return out\n",
    "    \n",
    "    def backward(self,dout):\n",
    "        dout[self.mask] = 0 \n",
    "        dx = dout # 나머지는 *1 이라 변화 없음\n",
    "        \n",
    "        return dx"
   ]
  },
  {
   "cell_type": "code",
   "execution_count": 34,
   "metadata": {},
   "outputs": [
    {
     "data": {
      "text/plain": [
       "array([[1., 0.],\n",
       "       [0., 3.]])"
      ]
     },
     "execution_count": 34,
     "metadata": {},
     "output_type": "execute_result"
    }
   ],
   "source": [
    "x = np.array([[1,-0.5],[-2.0,3.0]])\n",
    "\n",
    "layer = ReLu()\n",
    "layer.forward(x)"
   ]
  },
  {
   "cell_type": "code",
   "execution_count": 3,
   "metadata": {},
   "outputs": [],
   "source": [
    "class sigmoid:\n",
    "    def __init__(self):\n",
    "        self.out = None\n",
    "        \n",
    "    def forward(self, x):\n",
    "        out = 1/(1+exp(-x))\n",
    "        \n",
    "        return out\n",
    "    \n",
    "    def backward(self, dout):\n",
    "        dx = dout * (1.0 - self.out) *self.out\n",
    "        \n",
    "        return dx        "
   ]
  },
  {
   "cell_type": "markdown",
   "metadata": {},
   "source": [
    "### Affine Transform ###"
   ]
  },
  {
   "cell_type": "code",
   "execution_count": 4,
   "metadata": {},
   "outputs": [],
   "source": [
    "class Affine:\n",
    "    def __init__(self,W,b):\n",
    "        self.W = W\n",
    "        self.b = b\n",
    "        self.X = None\n",
    "        self.dW = None\n",
    "        self.db = None\n",
    "        \n",
    "    def forward(self,X):\n",
    "        self.X = X\n",
    "        out = np.dot(X,self.W)+self.b  \n",
    "        \n",
    "        return out\n",
    "    \n",
    "    def backward(self,dout):\n",
    "        dX = np.dot(dout, self.W.T)\n",
    "        self.dW = np.dot(self.X.T, dout) # 순서주의\n",
    "        self.db = np.sum(dout, axis = 0) # 상류의 dout을 데이터마다 더함\n",
    "        \n",
    "        return dX"
   ]
  },
  {
   "cell_type": "markdown",
   "metadata": {},
   "source": [
    "### softmax with loss ###"
   ]
  },
  {
   "cell_type": "code",
   "execution_count": 5,
   "metadata": {},
   "outputs": [],
   "source": [
    "from scratch.common.functions import softmax, cross_entropy_error"
   ]
  },
  {
   "cell_type": "code",
   "execution_count": 6,
   "metadata": {},
   "outputs": [],
   "source": [
    "class SoftmaxWithLoss:\n",
    "    def __init_(self):\n",
    "        self.loss = None\n",
    "        self.y = None # softmax결과\n",
    "        self.t = None # 정답\n",
    "        \n",
    "    def forward(self, x, t): # 추정치, 정답\n",
    "        self.t = t\n",
    "        self.y = softmax(x)\n",
    "        self.loss = cross_entropy_error(self.y, self.t)\n",
    "        \n",
    "        return self.loss\n",
    "    \n",
    "    def backward(self, dout = 1): # dL/dL =1\n",
    "        batch_size = self.t.shape[0] # 데이터 수\n",
    "        dx = (self.y -self.t)/batch_size # 부록 A 291p참고\n",
    "        \n",
    "        return dx"
   ]
  },
  {
   "cell_type": "markdown",
   "metadata": {},
   "source": [
    "### 오차 역전파를 이용한 신경망 구현 - 2층 신경망 ###"
   ]
  },
  {
   "cell_type": "markdown",
   "metadata": {},
   "source": [
    "ch.4 에서는 기울기 산출을 위해 gradient를 이용하고 그를 training loss와 곱해 parameter들을 update시켰다.(gradient descent) 이번 chatper에서는 오차 역전파를 이용해 기울기를 구한후 parameter를 업데이트 할 것 이다. 이 방법을 이용하여 2층 신경망을 만들어 보자!\n",
    "\n",
    "\n",
    "*/ 기울기는 손실함수의 값을 가장 작게 만들수 있는 방향을 제시한다 /* "
   ]
  },
  {
   "cell_type": "code",
   "execution_count": 7,
   "metadata": {},
   "outputs": [],
   "source": [
    "from scratch.common.gradient import numerical_gradient\n",
    "from collections import OrderedDict"
   ]
  },
  {
   "cell_type": "code",
   "execution_count": 8,
   "metadata": {},
   "outputs": [],
   "source": [
    "class TwoLayerNet:\n",
    "    def __init__(self, input_size, hidden_size, output_size, weight_init_std=0.01):\n",
    "        \n",
    "        # parameter 초기화\n",
    "        self.params={}\n",
    "        \n",
    "        self.params['W1'] = weight_init_std*np.random.rand(input_size,hidden_size)\n",
    "        self.params['W2'] = weight_init_std*np.random.rand(hidden_size,output_size)\n",
    "        \n",
    "        self.params['b1'] = np.zeros(hidden_size)\n",
    "        self.params['b2'] = np.zeros(output_size)\n",
    "    \n",
    "        # 계층 만들기\n",
    "        self.layers = OrderedDict() # 순서가 있는 dictionary -> 추가한 순서를 기억한다.\n",
    "        self.layers['Affine1'] = Affine(self.params['W1'],self.params['b1'])\n",
    "        self.layers['ReLu1'] = ReLu()\n",
    "        self.layers['Affine2'] = Affine(self.params['W2'],self.params['b2'])\n",
    "        self.layers['ReLu2'] = ReLu()\n",
    "        self.lastLayer = SoftmaxWithLoss()\n",
    "        \n",
    "        \n",
    "        # 활성화값 확일을 위한 공간\n",
    "        self.activation = {}\n",
    "        \n",
    "    def predict(self, x):\n",
    "        for index,layer in enumerate(self.layers.values()): # layers는 dictionary 이므로 values()필요\n",
    "            x = layer.forward(x) # 각 계층에 forward가 구현되어 있음\n",
    "            \n",
    "            # 활성화 값 확인을 위한 준비 과정\n",
    "            if isinstance(layer,ReLu):\n",
    "                self.activation[index]=x\n",
    "            \n",
    "        return x # 모든 layer를 지난 결과\n",
    "    \n",
    "    def loss(self, x, t):\n",
    "        y = self.predict(x) # 추정치\n",
    "        \n",
    "        return self.lastLayer.forward(y,t)\n",
    "        \n",
    "    def accuracy(self, x, t):      # 전체 데이터 중에서 올바른 추정 비율\n",
    "        y = self.predict(x)        # 출력 (1 x n)  # 각 label별 계산 결과\n",
    "        y = np.argmax(y, axis = 1) # 1x1 로 변환\n",
    "        \n",
    "        if t.ndim != 1: t = np.argmax(t, axis = 1)  # 1x1 형태로 변환 (원래 one hot vector 형태였음)\n",
    "            \n",
    "        accuracy = np.sum(y==t) / float(x.shape[0]) # 올바른 추정 수 /전체 데이터 수\n",
    "        \n",
    "        return accuracy\n",
    "    \n",
    "    # ch.4 방식 - 직접 gradient 계산하기\n",
    "    def numerical_gradient(self, x, t):\n",
    "        \n",
    "        loss_W = lambda W: self.loss(x,t)\n",
    "        \n",
    "        grads={}\n",
    "        grads['W1'] = numerical_gradient(loss_W, self.params['W1'])\n",
    "        grads['b1'] = numerical_gradient(loss_W, self.params['b1'])\n",
    "        grads['W2'] = numerical_gradient(loss_W, self.params['W2'])\n",
    "        grads['b2'] = numerical_gradient(loss_W, self.params['b2'])\n",
    "        \n",
    "        return grads\n",
    "        \n",
    "    # 오차 역전파를 이용한 gradient 구하기\n",
    "    def gradient(self, x, t):\n",
    "        \n",
    "        #  순전파\n",
    "        self.loss(x, t)\n",
    "        \n",
    "        # dL/dL = 1\n",
    "        dout = 1            \n",
    "        dout = self.lastLayer.backward(dout)\n",
    "        \n",
    "        layers = list(self.layers.values()) # 순서를 뒤집기 위해 list로 변경\n",
    "        layers.reverse()\n",
    "        \n",
    "        # 역전파 진행\n",
    "        for layer in layers:\n",
    "            dout = layer.backward(dout)\n",
    "            # backward를 진행하면서 각 layer내 dX,dY등이 업데이트 됨 (저장됨)\n",
    "            \n",
    "        # 결과 저장\n",
    "        grads={}\n",
    "        grads['W1'] = self.layers['Affine1'].dW\n",
    "        grads['b1'] = self.layers['Affine1'].db\n",
    "        grads['W2'] = self.layers['Affine2'].dW\n",
    "        grads['b2'] = self.layers['Affine2'].db\n",
    "        \n",
    "        return grads "
   ]
  },
  {
   "cell_type": "code",
   "execution_count": 118,
   "metadata": {},
   "outputs": [],
   "source": [
    "network=TwoLayerNet(725,100,10)"
   ]
  },
  {
   "cell_type": "code",
   "execution_count": 123,
   "metadata": {},
   "outputs": [
    {
     "name": "stdout",
     "output_type": "stream",
     "text": [
      "<class 'int'>\n",
      "<class 'str'>\n",
      "<class 'int'>\n",
      "<class 'str'>\n",
      "<class 'int'>\n",
      "<class 'str'>\n",
      "<class 'int'>\n",
      "<class 'str'>\n"
     ]
    }
   ],
   "source": [
    "for k, v in enumerate(network.layers):\n",
    "    print(type(k))\n",
    "    print(type(v))"
   ]
  },
  {
   "cell_type": "markdown",
   "metadata": {},
   "source": [
    "### 오차 역전파를 이용한 gradient 계산 - numerical gradient와 비교 ###"
   ]
  },
  {
   "cell_type": "code",
   "execution_count": 9,
   "metadata": {},
   "outputs": [],
   "source": [
    "from scratch.dataset.mnist import load_mnist"
   ]
  },
  {
   "cell_type": "code",
   "execution_count": 10,
   "metadata": {},
   "outputs": [],
   "source": [
    "(x_train, t_train), (x_test, t_test) = load_mnist(normalize=True, one_hot_label=True)\n",
    "\n",
    "network = TwoLayerNet(input_size = 784, hidden_size=50, output_size = 10) # 28x28 -> 0-9label\n",
    "\n",
    "# 3x784 batch\n",
    "x_batch = x_train[:3]\n",
    "t_batch = t_train[:3]\n",
    "\n",
    "grad_numerical = network.numerical_gradient(x_batch, t_batch)\n",
    "grad_backprop = network.gradient(x_batch, t_batch)"
   ]
  },
  {
   "cell_type": "code",
   "execution_count": null,
   "metadata": {},
   "outputs": [],
   "source": [
    "from matplotlib import pyplot as plt\n",
    "\n",
    "for i in x_batch:\n",
    "    plt.imshow(i.reshape(28,28), cmap='gray')\n",
    "    plt.show()"
   ]
  },
  {
   "cell_type": "code",
   "execution_count": null,
   "metadata": {},
   "outputs": [],
   "source": [
    "print(grad_backprop['b2'])"
   ]
  },
  {
   "cell_type": "code",
   "execution_count": 11,
   "metadata": {},
   "outputs": [
    {
     "name": "stdout",
     "output_type": "stream",
     "text": [
      "W1 : 2.304054129820859e-10\n",
      "b1 : 1.1113163406379668e-09\n",
      "W2 : 7.006720959318313e-08\n",
      "b2 : 1.3685408491032058e-07\n"
     ]
    }
   ],
   "source": [
    "for key in grad_numerical.keys():\n",
    "    diff = np.average(np.abs( grad_backprop[key] - grad_numerical[key] ))\n",
    "    print(key,':',diff)"
   ]
  },
  {
   "cell_type": "markdown",
   "metadata": {},
   "source": [
    "numerical_gradient와 오차 역전파 법으로 구한 기울기의 차이가 매우 작다"
   ]
  },
  {
   "cell_type": "markdown",
   "metadata": {},
   "source": [
    "### 오차 역전파를 이용한 신경망 학습 - 2층 신경망 ###"
   ]
  },
  {
   "cell_type": "code",
   "execution_count": 19,
   "metadata": {},
   "outputs": [
    {
     "data": {
      "text/plain": [
       "(60000, 10)"
      ]
     },
     "execution_count": 19,
     "metadata": {},
     "output_type": "execute_result"
    }
   ],
   "source": [
    "t_train.shape"
   ]
  },
  {
   "cell_type": "code",
   "execution_count": 23,
   "metadata": {
    "scrolled": true
   },
   "outputs": [
    {
     "data": {
      "text/plain": [
       "600.0"
      ]
     },
     "execution_count": 23,
     "metadata": {},
     "output_type": "execute_result"
    }
   ],
   "source": [
    "train_size/batch_size"
   ]
  },
  {
   "cell_type": "code",
   "execution_count": 11,
   "metadata": {},
   "outputs": [
    {
     "name": "stdout",
     "output_type": "stream",
     "text": [
      "9999 : 0.9761333333333333 0.9688\n",
      "소요시간: 37.95861029624939\n",
      "9999 : 0.8821166666666667 0.8735\n",
      "소요시간: 44.46683430671692\n",
      "9999 : 0.9771666666666666 0.9695\n",
      "소요시간: 42.549105644226074\n",
      "9999 : 0.8826666666666667 0.8738\n",
      "소요시간: 39.174416065216064\n",
      "9999 : 0.9746333333333334 0.9665\n",
      "소요시간: 32.03793716430664\n",
      "5회 평균 test accuracy: 0.93042\n",
      "5회 평균 소요 시간: 39.23738069534302\n"
     ]
    }
   ],
   "source": [
    "import time\n",
    "\n",
    "(x_train, t_train), (x_test, t_test) = load_mnist(normalize=True, one_hot_label=True)\n",
    "\n",
    "iteration = 10000\n",
    "train_size = x_train.shape[0]\n",
    "batch_size = 100\n",
    "learning_rate = 0.1\n",
    "\n",
    "train_loss_list=[]\n",
    "train_acc_list=[]\n",
    "test_acc_list=[]\n",
    "last_acc_list=[]\n",
    "time_list=[]\n",
    "\n",
    "iter_per_epoch = max(train_size/batch_size, 1) # 몇번의 batch선택을 해야되는지 / batch size가 전체 data보다 작을수도 있으니 확인\n",
    "\n",
    "for j in range(5):\n",
    "    # reset\n",
    "    start = time.time()\n",
    "    network = TwoLayerNet(input_size = 784, hidden_size=50, output_size = 10) # 28x28 -> 0-9label\n",
    "    for i in range(iteration):\n",
    "        # mini batch생성\n",
    "        batch_mask = np.random.choice(train_size, batch_size) # 무작위로 100개의 데이터 선택\n",
    "        x_batch = x_train[batch_mask]\n",
    "        t_batch = t_train[batch_mask]\n",
    "\n",
    "        # gradient구하기 (오차 역전파법)\n",
    "        grad = network.gradient(x_batch, t_batch)\n",
    "\n",
    "        # parameter update\n",
    "        for key in ('W1','b1','W2','b2'):\n",
    "            network.params[key] -= learning_rate * grad[key]\n",
    "\n",
    "        # 업데이트된 parameter로 loss 계산\n",
    "        loss = network.loss(x_batch, t_batch)\n",
    "        train_loss_list.append(loss)\n",
    "\n",
    "        if i==(iteration-1):\n",
    "            # 전체 데이터를 학습에 사용하고 나면 전체 데이터에 대한 정확도 계산\n",
    "            train_acc = network.accuracy(x_train, t_train) \n",
    "            test_acc = network.accuracy(x_test, t_test)\n",
    "            train_acc_list.append(train_acc)\n",
    "            test_acc_list.append(test_acc)\n",
    "            print(i,':',train_acc, test_acc)\n",
    "\n",
    "    end = time.time()\n",
    "    time_list.append(end-start)\n",
    "    print(f'소요시간: {time_list[-1]}')\n",
    "    last_acc_list.append(test_acc)\n",
    "    \n",
    "print(f'5회 평균 test accuracy: {np.average(last_acc_list)}')\n",
    "print(f'5회 평균 소요 시간: {np.average(time_list)}')"
   ]
  },
  {
   "cell_type": "code",
   "execution_count": null,
   "metadata": {},
   "outputs": [],
   "source": []
  },
  {
   "cell_type": "markdown",
   "metadata": {},
   "source": [
    "### 5층 신경망 ###"
   ]
  },
  {
   "cell_type": "code",
   "execution_count": 131,
   "metadata": {},
   "outputs": [],
   "source": [
    "class FiveLayerNet:\n",
    "    def __init__(self, i, h1, h2, h3, h4, o, weight_init_std=0.01):\n",
    "        \n",
    "        # parameter 초기화\n",
    "        self.params={}\n",
    "        \n",
    "        self.params['W1'] = weight_init_std*np.random.rand(i,h1)\n",
    "        self.params['W2'] = weight_init_std*np.random.rand(h1,h2)\n",
    "        self.params['W3'] = weight_init_std*np.random.rand(h2,h3)\n",
    "        self.params['W4'] = weight_init_std*np.random.rand(h3,h4)\n",
    "        self.params['W5'] = weight_init_std*np.random.rand(h4,o)\n",
    "        \n",
    "        self.params['b1'] = np.zeros(h1)\n",
    "        self.params['b2'] = np.zeros(h2)\n",
    "        self.params['b3'] = np.zeros(h3)\n",
    "        self.params['b4'] = np.zeros(h4)\n",
    "        self.params['b5'] = np.zeros(o)\n",
    "    \n",
    "        # 계층 만들기\n",
    "        self.layers = OrderedDict() # 순서가 있는 dictionary -> 추가한 순서를 기억한다.\n",
    "        self.layers['Affine1'] = Affine(self.params['W1'],self.params['b1'])\n",
    "        self.layers['ReLu1'] = ReLu()\n",
    "        \n",
    "        self.layers['Affine2'] = Affine(self.params['W2'],self.params['b2'])\n",
    "        self.layers['ReLu2'] = ReLu()\n",
    "        \n",
    "        self.layers['Affine3'] = Affine(self.params['W3'],self.params['b3'])\n",
    "        self.layers['ReLu3'] = ReLu()\n",
    "        \n",
    "        self.layers['Affine4'] = Affine(self.params['W4'],self.params['b4'])\n",
    "        self.layers['ReLu4'] = ReLu()\n",
    "        \n",
    "        self.layers['Affine5'] = Affine(self.params['W5'],self.params['b5'])\n",
    "        self.layers['ReLu5'] = ReLu()\n",
    "        \n",
    "        self.lastLayer = SoftmaxWithLoss()\n",
    "        \n",
    "        # 활성화값 저장을 위한 공간\n",
    "        self.activation = {}\n",
    "        \n",
    "    def predict(self, x):\n",
    "        for index,layer in enumerate(self.layers.values()): # layers는 dictionary 이므로 values()필요\n",
    "            x = layer.forward(x) # 각 계층에 forward가 구현되어 있음\n",
    "            \n",
    "            if isinstance(layer,ReLu):\n",
    "                self.activation[index]=x\n",
    "            \n",
    "        return x # 모든 layer를 지난 결과\n",
    "    \n",
    "    def loss(self, x, t):\n",
    "        y = self.predict(x) # 추정치\n",
    "        \n",
    "        return self.lastLayer.forward(y,t)\n",
    "        \n",
    "    def accuracy(self, x, t):      # 전체 데이터 중에서 올바른 추정 비율\n",
    "        y = self.predict(x)        # 출력 (1 x n)  # 각 label별 계산 결과\n",
    "        y = np.argmax(y, axis = 1) # 1x1 로 변환\n",
    "        \n",
    "        if t.ndim != 1: t = np.argmax(t, axis = 1)  # 1x1 형태로 변환 (원래 one hot vector 형태였음)\n",
    "            \n",
    "        accuracy = np.sum(y==t) / float(x.shape[0]) # 올바른 추정 수 /전체 데이터 수\n",
    "        \n",
    "        return accuracy\n",
    "    \n",
    "    # ch.4 방식 - 직접 gradient 계산하기\n",
    "    def numerical_gradient(self, x, t):\n",
    "        \n",
    "        loss_W = lambda W: self.loss(x,t)\n",
    "        \n",
    "        grads={}\n",
    "        grads['W1'] = numerical_gradient(loss_W, self.params['W1'])\n",
    "        grads['b1'] = numerical_gradient(loss_W, self.params['b1'])\n",
    "        grads['W2'] = numerical_gradient(loss_W, self.params['W2'])\n",
    "        grads['b2'] = numerical_gradient(loss_W, self.params['b2'])\n",
    "        grads['W3'] = numerical_gradient(loss_W, self.params['W3'])\n",
    "        grads['b3'] = numerical_gradient(loss_W, self.params['b3'])\n",
    "        grads['W4'] = numerical_gradient(loss_W, self.params['W4'])\n",
    "        grads['b4'] = numerical_gradient(loss_W, self.params['b4'])\n",
    "        grads['W5'] = numerical_gradient(loss_W, self.params['W5'])\n",
    "        grads['b5'] = numerical_gradient(loss_W, self.params['b5'])\n",
    "        \n",
    "        return grads\n",
    "        \n",
    "    # 오차 역전파를 이용한 gradient 구하기\n",
    "    def gradient(self, x, t):\n",
    "        \n",
    "        #  순전파\n",
    "        self.loss(x, t)\n",
    "        \n",
    "        # dL/dL = 1\n",
    "        dout = 1            \n",
    "        dout = self.lastLayer.backward(dout)\n",
    "        \n",
    "        layers = list(self.layers.values()) # 순서를 뒤집기 위해 list로 변경\n",
    "        layers.reverse()\n",
    "        \n",
    "        # 역전파 진행\n",
    "        for layer in layers:\n",
    "            dout = layer.backward(dout)\n",
    "            # backward를 진행하면서 각 layer내 dX,dY등이 업데이트 됨 (저장됨)\n",
    "            \n",
    "        # 결과 저장\n",
    "        grads={}\n",
    "        grads['W1'] = self.layers['Affine1'].dW\n",
    "        grads['b1'] = self.layers['Affine1'].db\n",
    "        grads['W2'] = self.layers['Affine2'].dW\n",
    "        grads['b2'] = self.layers['Affine2'].db\n",
    "        grads['W3'] = self.layers['Affine3'].dW\n",
    "        grads['b3'] = self.layers['Affine3'].db\n",
    "        grads['W4'] = self.layers['Affine4'].dW\n",
    "        grads['b4'] = self.layers['Affine4'].db\n",
    "        grads['W5'] = self.layers['Affine5'].dW\n",
    "        grads['b5'] = self.layers['Affine5'].db\n",
    "        \n",
    "        return grads "
   ]
  },
  {
   "cell_type": "code",
   "execution_count": 33,
   "metadata": {},
   "outputs": [],
   "source": [
    "network = FiveLayerNet(i=784,h1=100,h2=50,h3=20,h4=15,o=10) # 28x28 -> 0-9label"
   ]
  },
  {
   "cell_type": "code",
   "execution_count": 35,
   "metadata": {},
   "outputs": [],
   "source": [
    "# numerical gradient 이용해 검증\n",
    "\n",
    "# 3x784 batch\n",
    "x_batch = x_train[:3]\n",
    "t_batch = t_train[:3]\n",
    "\n",
    "grad_numerical = network.numerical_gradient(x_batch, t_batch)\n",
    "grad_backprop = network.gradient(x_batch, t_batch)"
   ]
  },
  {
   "cell_type": "code",
   "execution_count": 36,
   "metadata": {},
   "outputs": [
    {
     "name": "stdout",
     "output_type": "stream",
     "text": [
      "W1 : 3.816286335171209e-13\n",
      "b1 : 1.0530893949987353e-12\n",
      "W2 : 1.361757074749436e-12\n",
      "b2 : 1.4478180719966646e-12\n",
      "W3 : 5.067685943924462e-12\n",
      "b3 : 1.5827905806450566e-11\n",
      "W4 : 6.620667798918414e-11\n",
      "b4 : 9.475654732070172e-10\n",
      "W5 : 8.712166448262999e-10\n",
      "b5 : 1.39947644141325e-07\n"
     ]
    }
   ],
   "source": [
    "for key in grad_numerical.keys():\n",
    "    diff = np.average(np.abs( grad_backprop[key] - grad_numerical[key] ))\n",
    "    print(key,':',diff)"
   ]
  },
  {
   "cell_type": "code",
   "execution_count": 172,
   "metadata": {},
   "outputs": [
    {
     "name": "stdout",
     "output_type": "stream",
     "text": [
      "0 : 0.09863333333333334 0.0958\n",
      "600 : 0.29035 0.2897\n",
      "1200 : 0.3624833333333333 0.3601\n",
      "1800 : 0.42141666666666666 0.4264\n",
      "2400 : 0.35296666666666665 0.3579\n",
      "3000 : 0.4968666666666667 0.4849\n",
      "3600 : 0.4976 0.506\n",
      "4200 : 0.5759 0.5755\n",
      "4800 : 0.5400833333333334 0.5362\n",
      "5400 : 0.51895 0.5203\n",
      "6000 : 0.5360333333333334 0.5337\n",
      "6600 : 0.4648833333333333 0.4649\n",
      "7200 : 0.4853 0.4855\n",
      "7800 : 0.49111666666666665 0.4872\n",
      "8400 : 0.49373333333333336 0.4896\n",
      "9000 : 0.49596666666666667 0.4912\n",
      "9600 : 0.49583333333333335 0.4906\n",
      "9999 : 0.4975 0.4928\n",
      "소요시간: 177.15410828590393\n",
      "0 : 0.10111666666666666 0.0994\n",
      "600 : 0.24991666666666668 0.2535\n",
      "1200 : 0.3486 0.3573\n",
      "1800 : 0.3609833333333333 0.3602\n",
      "2400 : 0.42975 0.4338\n",
      "3000 : 0.43635 0.4338\n",
      "3600 : 0.41845 0.4225\n",
      "4200 : 0.52745 0.5273\n",
      "4800 : 0.5377833333333333 0.5403\n",
      "5400 : 0.5570333333333334 0.5538\n",
      "6000 : 0.5577666666666666 0.5513\n",
      "6600 : 0.5729833333333333 0.5681\n",
      "7200 : 0.6329333333333333 0.6319\n",
      "7800 : 0.51055 0.5054\n",
      "8400 : 0.7479 0.7409\n",
      "9000 : 0.7499666666666667 0.7514\n",
      "9600 : 0.7617833333333334 0.7581\n",
      "9999 : 0.7645166666666666 0.7631\n",
      "소요시간: 176.4979283809662\n",
      "0 : 0.09751666666666667 0.0974\n",
      "600 : 0.2780666666666667 0.274\n",
      "1200 : 0.3448833333333333 0.3406\n",
      "1800 : 0.47405 0.477\n",
      "2400 : 0.47228333333333333 0.4723\n",
      "3000 : 0.5388166666666667 0.5298\n",
      "3600 : 0.4598 0.4548\n",
      "4200 : 0.5816 0.5726\n",
      "4800 : 0.5126 0.5009\n",
      "5400 : 0.6649333333333334 0.6471\n",
      "6000 : 0.9002 0.8914\n",
      "6600 : 0.9278666666666666 0.9173\n",
      "7200 : 0.9426333333333333 0.9279\n",
      "7800 : 0.9412833333333334 0.9262\n",
      "8400 : 0.9558833333333333 0.9392\n",
      "9000 : 0.9591166666666666 0.9396\n",
      "9600 : 0.9704 0.9502\n",
      "9999 : 0.9577666666666667 0.9378\n",
      "소요시간: 179.00095772743225\n",
      "0 : 0.09871666666666666 0.098\n",
      "600 : 0.23981666666666668 0.2378\n",
      "1200 : 0.2888833333333333 0.2937\n",
      "1800 : 0.4076666666666667 0.4047\n",
      "2400 : 0.46941666666666665 0.4723\n",
      "3000 : 0.49901666666666666 0.4975\n",
      "3600 : 0.48693333333333333 0.4869\n",
      "4200 : 0.536 0.5324\n",
      "4800 : 0.41096666666666665 0.4092\n",
      "5400 : 0.5063833333333333 0.5037\n",
      "6000 : 0.44888333333333336 0.4502\n",
      "6600 : 0.39245 0.3901\n",
      "7200 : 0.3967 0.3935\n",
      "7800 : 0.39791666666666664 0.3958\n",
      "8400 : 0.3993833333333333 0.397\n",
      "9000 : 0.39976666666666666 0.3976\n",
      "9600 : 0.40045 0.3979\n",
      "9999 : 0.4013833333333333 0.399\n",
      "소요시간: 178.88381385803223\n",
      "0 : 0.09751666666666667 0.0974\n",
      "600 : 0.27523333333333333 0.2739\n",
      "1200 : 0.40858333333333335 0.414\n",
      "1800 : 0.39465 0.3967\n",
      "2400 : 0.4425 0.441\n",
      "3000 : 0.4519 0.4481\n",
      "3600 : 0.55275 0.5486\n",
      "4200 : 0.53635 0.5266\n",
      "4800 : 0.58765 0.5815\n",
      "5400 : 0.7040833333333333 0.6978\n",
      "6000 : 0.8532166666666666 0.8461\n",
      "6600 : 0.9404166666666667 0.9322\n",
      "7200 : 0.95375 0.9462\n",
      "7800 : 0.9698833333333333 0.9589\n",
      "8400 : 0.9719833333333333 0.9588\n",
      "9000 : 0.9718 0.9551\n",
      "9600 : 0.9833 0.9659\n",
      "9999 : 0.9822 0.9647\n",
      "소요시간: 181.50180959701538\n",
      "5회 평균 test accuracy: 0.71148\n",
      "5회 평균 소요 시간: 178.60772356987\n"
     ]
    }
   ],
   "source": [
    "import time\n",
    "\n",
    "(x_train, t_train), (x_test, t_test) = load_mnist(normalize=True, one_hot_label=True)\n",
    "\n",
    "\n",
    "\n",
    "iteration = 10000\n",
    "train_size = x_train.shape[0]\n",
    "batch_size = 100\n",
    "learning_rate = 0.1\n",
    "\n",
    "train_loss_list=[]\n",
    "train_acc_list=[]\n",
    "test_acc_list=[]\n",
    "last_acc_list=[]\n",
    "time_list=[]\n",
    "\n",
    "iter_per_epoch = max(train_size/batch_size, 1) # 몇번의 batch선택을 해야되는지 / batch size가 전체 data보다 작을수도 있으니 확인\n",
    "\n",
    "\n",
    "for j in range(5):\n",
    "    # reset\n",
    "    start = time.time()\n",
    "    network = FiveLayerNet(i=784,h1=500,h2=250,h3=100,h4=40,o=10,weight_init_std=0.007) # 28x28 -> 0-9label\n",
    "    for i in range(iteration):\n",
    "        # mini batch생성\n",
    "        batch_mask = np.random.choice(train_size, batch_size) # 무작위로 100개의 데이터 선택\n",
    "        x_batch = x_train[batch_mask]\n",
    "        t_batch = t_train[batch_mask]\n",
    "\n",
    "        # gradient구하기 (오차 역전파법)\n",
    "        grad = network.gradient(x_batch, t_batch)\n",
    "\n",
    "        # parameter update\n",
    "        for key in ('W1','b1','W2','b2','W3','b3','W4','b4','W5','b5'):\n",
    "            network.params[key] -= learning_rate * grad[key]\n",
    "\n",
    "        # 업데이트된 parameter로 loss 계산\n",
    "        loss = network.loss(x_batch, t_batch)\n",
    "        train_loss_list.append(loss)\n",
    "\n",
    "        if i % iter_per_epoch == 0 or i==(iteration-1):\n",
    "            # 전체 데이터를 학습에 사용하고 나면 전체 데이터에 대한 정확도 계산\n",
    "            train_acc = network.accuracy(x_train, t_train) \n",
    "            test_acc = network.accuracy(x_test, t_test)\n",
    "            train_acc_list.append(train_acc)\n",
    "            test_acc_list.append(test_acc)\n",
    "            print(i,':',train_acc, test_acc)\n",
    "\n",
    "        if i == (iteration-1):\n",
    "            last_acc_list.append(test_acc)\n",
    "        \n",
    "           \n",
    "    end = time.time()\n",
    "    time_list.append(end-start)\n",
    "    print(f'소요시간: {time_list[-1]}')\n",
    "    \n",
    "print(f'5회 평균 test accuracy: {np.average(last_acc_list)}')\n",
    "print(f'5회 평균 소요 시간: {np.average(time_list)}')"
   ]
  },
  {
   "cell_type": "markdown",
   "metadata": {},
   "source": [
    "학습이 되지 않거나 오히려 정확도가 떨어지게 되는 구간이 발생 (ch6의 204p참고 - 기울기 소실 문제)"
   ]
  },
  {
   "cell_type": "markdown",
   "metadata": {},
   "source": [
    "# 활성화값 분포 확인"
   ]
  },
  {
   "cell_type": "markdown",
   "metadata": {},
   "source": [
    "ch6 에서 소개하는 활성화값 분포를 통해 은닉층이 제대로 역할을 다 하고 있는지 확인해 보도록 하겠다. 아래의 TwoLayerNet은 저번 실험결과 학습이 잘 되어 정확도가 96퍼센트 가량 나왔다. 학습이 잘된 경우의 활성화 값과 그렇지 않는 경우의 비교를 위해 TwoLayerNet의 활성화 값분포 먼저 히스토그램으로 표현하겠다. \n",
    "\n",
    "학습이 충분히 이루어진후의 활성화 함수를 확인해야만 한다. 이를 위해서는 TwoLayerNet과 FiveLayerNet내부에 활성화값 저장 장소를 만들어야 하며, 학습과정과 관련된 코드도 일부 수정이 필요하다. "
   ]
  },
  {
   "cell_type": "code",
   "execution_count": 156,
   "metadata": {},
   "outputs": [
    {
     "name": "stdout",
     "output_type": "stream",
     "text": [
      "0 : 0.09863333333333334 0.0958\n"
     ]
    }
   ],
   "source": [
    "(x_train, t_train), (x_test, t_test) = load_mnist(normalize=True, one_hot_label=True)\n",
    "\n",
    "\n",
    "iteration = 10000\n",
    "train_size = x_train.shape[0]\n",
    "batch_size = 100\n",
    "learning_rate = 0.1\n",
    "\n",
    "train_loss_list=[]\n",
    "train_acc_list=[]\n",
    "test_acc_list=[]\n",
    "\n",
    "iter_per_epoch = max(train_size/batch_size, 1) # 몇번의 batch선택을 해야되는지 / batch size가 전체 data보다 작을수도 있으니 확인\n",
    "\n",
    "network = TwoLayerNet(input_size = 784, hidden_size=50, output_size = 10) # 28x28 -> 0-9label\n",
    "for i in range(1):\n",
    "    # mini batch생성\n",
    "    batch_mask = np.random.choice(train_size, batch_size) # 무작위로 100개의 데이터 선택\n",
    "    x_batch = x_train[batch_mask]\n",
    "    t_batch = t_train[batch_mask]\n",
    "\n",
    "    # gradient구하기 (오차 역전파법)\n",
    "    grad = network.gradient(x_batch, t_batch)\n",
    "\n",
    "    # parameter update\n",
    "    for key in ('W1','b1','W2','b2'):\n",
    "        network.params[key] -= learning_rate * grad[key]\n",
    "\n",
    "    # 업데이트된 parameter로 loss 계산\n",
    "    loss = network.loss(x_batch, t_batch)\n",
    "    train_loss_list.append(loss)\n",
    "\n",
    "    if i==(iteration-1) or i % iter_per_epoch ==0:\n",
    "        # 전체 데이터를 학습에 사용하고 나면 전체 데이터에 대한 정확도 계산\n",
    "        train_acc = network.accuracy(x_train, t_train) \n",
    "        test_acc = network.accuracy(x_test, t_test)\n",
    "        train_acc_list.append(train_acc)\n",
    "        test_acc_list.append(test_acc)\n",
    "        print(i,':',train_acc, test_acc)"
   ]
  },
  {
   "cell_type": "code",
   "execution_count": 157,
   "metadata": {},
   "outputs": [
    {
     "data": {
      "text/plain": [
       "(array([6.0400e+02, 1.0408e+04, 2.4890e+04, 2.5134e+04, 1.7250e+04,\n",
       "        1.0363e+04, 5.5640e+03, 3.0440e+03, 1.5680e+03, 6.4500e+02,\n",
       "        2.9300e+02, 1.5000e+02, 6.0000e+01, 2.3000e+01, 4.0000e+00,\n",
       "        0.0000e+00, 0.0000e+00, 0.0000e+00, 0.0000e+00, 0.0000e+00,\n",
       "        0.0000e+00, 0.0000e+00, 0.0000e+00, 0.0000e+00, 0.0000e+00,\n",
       "        0.0000e+00, 0.0000e+00, 0.0000e+00, 0.0000e+00, 0.0000e+00]),\n",
       " array([0.        , 0.03333333, 0.06666667, 0.1       , 0.13333333,\n",
       "        0.16666667, 0.2       , 0.23333333, 0.26666667, 0.3       ,\n",
       "        0.33333333, 0.36666667, 0.4       , 0.43333333, 0.46666667,\n",
       "        0.5       , 0.53333333, 0.56666667, 0.6       , 0.63333333,\n",
       "        0.66666667, 0.7       , 0.73333333, 0.76666667, 0.8       ,\n",
       "        0.83333333, 0.86666667, 0.9       , 0.93333333, 0.96666667,\n",
       "        1.        ]),\n",
       " <BarContainer object of 30 artists>)"
      ]
     },
     "execution_count": 157,
     "metadata": {},
     "output_type": "execute_result"
    },
    {
     "data": {
      "image/png": "[encoded data removed]",
      "text/plain": [
       "<Figure size 432x288 with 2 Axes>"
      ]
     },
     "metadata": {
      "needs_background": "light"
     },
     "output_type": "display_data"
    }
   ],
   "source": [
    "# 초기 활성화값 분포\n",
    "plt.subplot(1,2,1)\n",
    "plt.hist(network.activation[1].flatten(),30,range=(0,1))\n",
    "plt.subplot(1,2,2)\n",
    "plt.hist(network.activation[3].flatten(),30,range=(0,1))"
   ]
  },
  {
   "cell_type": "code",
   "execution_count": 155,
   "metadata": {},
   "outputs": [
    {
     "data": {
      "text/plain": [
       "(array([38186.,   254.,   221.,   257.,   231.,   263.,   254.,   264.,\n",
       "          256.,   246.,   275.,   263.,   299.,   262.,   276.,   262.,\n",
       "          285.,   255.,   272.,   254.,   266.,   296.,   279.,   303.,\n",
       "          276.,   258.,   271.,   266.,   283.,   274.]),\n",
       " array([0.        , 0.03333333, 0.06666667, 0.1       , 0.13333333,\n",
       "        0.16666667, 0.2       , 0.23333333, 0.26666667, 0.3       ,\n",
       "        0.33333333, 0.36666667, 0.4       , 0.43333333, 0.46666667,\n",
       "        0.5       , 0.53333333, 0.56666667, 0.6       , 0.63333333,\n",
       "        0.66666667, 0.7       , 0.73333333, 0.76666667, 0.8       ,\n",
       "        0.83333333, 0.86666667, 0.9       , 0.93333333, 0.96666667,\n",
       "        1.        ]),\n",
       " <BarContainer object of 30 artists>)"
      ]
     },
     "execution_count": 155,
     "metadata": {},
     "output_type": "execute_result"
    },
    {
     "data": {
      "image/png": "[encoded data removed]",
      "text/plain": [
       "<Figure size 432x288 with 2 Axes>"
      ]
     },
     "metadata": {
      "needs_background": "light"
     },
     "output_type": "display_data"
    }
   ],
   "source": [
    "# 10000번 학습후 활성화값 분포\n",
    "plt.subplot(1,2,1)\n",
    "plt.hist(network.activation[1].flatten(),30,range=(0,1))\n",
    "plt.subplot(1,2,2)\n",
    "plt.hist(network.activation[3].flatten(),30,range=(0,1))"
   ]
  },
  {
   "cell_type": "markdown",
   "metadata": {},
   "source": [
    "### 5층 신경망의  학습후 활성화값 분포 확인 ###"
   ]
  },
  {
   "cell_type": "code",
   "execution_count": 170,
   "metadata": {},
   "outputs": [
    {
     "name": "stdout",
     "output_type": "stream",
     "text": [
      "0 : 0.10218333333333333 0.101\n"
     ]
    }
   ],
   "source": [
    "\n",
    "(x_train, t_train), (x_test, t_test) = load_mnist(normalize=True, one_hot_label=True)\n",
    "\n",
    "\n",
    "\n",
    "iteration = 10000\n",
    "train_size = x_train.shape[0]\n",
    "batch_size = 100\n",
    "learning_rate = 0.1\n",
    "\n",
    "train_loss_list=[]\n",
    "train_acc_list=[]\n",
    "test_acc_list=[]\n",
    "\n",
    "iter_per_epoch = max(train_size/batch_size, 1) # 몇번의 batch선택을 해야되는지 / batch size가 전체 data보다 작을수도 있으니 확인\n",
    "\n",
    "network = FiveLayerNet(i=784,h1=500,h2=250,h3=100,h4=40,o=10, weight_init_std=0.1) # 28x28 -> 0-9label\n",
    "for i in range(1):\n",
    "    # mini batch생성\n",
    "    batch_mask = np.random.choice(train_size, batch_size) # 무작위로 100개의 데이터 선택\n",
    "    x_batch = x_train[batch_mask]\n",
    "    t_batch = t_train[batch_mask]\n",
    "\n",
    "    # gradient구하기 (오차 역전파법)\n",
    "    grad = network.gradient(x_batch, t_batch)\n",
    "\n",
    "    # parameter update\n",
    "    for key in ('W1','b1','W2','b2','W3','b3','W4','b4','W5','b5'):\n",
    "        network.params[key] -= learning_rate * grad[key]\n",
    "\n",
    "    # 업데이트된 parameter로 loss 계산\n",
    "    loss = network.loss(x_batch, t_batch)\n",
    "    train_loss_list.append(loss)\n",
    "\n",
    "    if i % iter_per_epoch == 0 or i==(iteration-1):\n",
    "        # 전체 데이터를 학습에 사용하고 나면 전체 데이터에 대한 정확도 계산\n",
    "        train_acc = network.accuracy(x_train, t_train) \n",
    "        test_acc = network.accuracy(x_test, t_test)\n",
    "        train_acc_list.append(train_acc)\n",
    "        test_acc_list.append(test_acc)\n",
    "        print(i,':',train_acc, test_acc)\n",
    "\n",
    "    if i == (iteration-1):\n",
    "        last_acc_list.append(test_acc)\n",
    "\n"
   ]
  },
  {
   "cell_type": "code",
   "execution_count": 137,
   "metadata": {
    "scrolled": true
   },
   "outputs": [
    {
     "data": {
      "text/plain": [
       "5"
      ]
     },
     "execution_count": 137,
     "metadata": {},
     "output_type": "execute_result"
    }
   ],
   "source": [
    "len(network.activation)"
   ]
  },
  {
   "cell_type": "code",
   "execution_count": 141,
   "metadata": {},
   "outputs": [
    {
     "data": {
      "text/plain": [
       "dict_keys([1, 3, 5, 7, 9])"
      ]
     },
     "execution_count": 141,
     "metadata": {},
     "output_type": "execute_result"
    }
   ],
   "source": [
    "network.activation.keys()"
   ]
  },
  {
   "cell_type": "code",
   "execution_count": 171,
   "metadata": {},
   "outputs": [
    {
     "data": {
      "text/plain": [
       "<function matplotlib.pyplot.show(close=None, block=None)>"
      ]
     },
     "execution_count": 171,
     "metadata": {},
     "output_type": "execute_result"
    },
    {
     "data": {
      "image/png": "[encoded data removed]",
      "text/plain": [
       "<Figure size 432x288 with 5 Axes>"
      ]
     },
     "metadata": {
      "needs_background": "light"
     },
     "output_type": "display_data"
    }
   ],
   "source": [
    "# 초기 활성화값 분포 - std=0.1\n",
    "for i,k in enumerate(network.activation.keys()):\n",
    "    plt.subplot(1, 5,i+1)\n",
    "    plt.title(str(i+1)+'layer')\n",
    "    plt.hist(network.activation[k].flatten(),30,range=(0,1))\n",
    "plt.show"
   ]
  },
  {
   "cell_type": "code",
   "execution_count": 159,
   "metadata": {
    "scrolled": true
   },
   "outputs": [
    {
     "data": {
      "text/plain": [
       "<function matplotlib.pyplot.show(close=None, block=None)>"
      ]
     },
     "execution_count": 159,
     "metadata": {},
     "output_type": "execute_result"
    },
    {
     "data": {
      "image/png": "[encoded data removed]",
      "text/plain": [
       "<Figure size 432x288 with 5 Axes>"
      ]
     },
     "metadata": {
      "needs_background": "light"
     },
     "output_type": "display_data"
    }
   ],
   "source": [
    "# 초기 활성화값 분포 - std=0.01\n",
    "for i,k in enumerate(network.activation.keys()):\n",
    "    plt.subplot(1, 5,i+1)\n",
    "    plt.title(str(i+1)+'layer')\n",
    "    plt.hist(network.activation[k].flatten(),30,range=(0,1))\n",
    "plt.show"
   ]
  },
  {
   "cell_type": "code",
   "execution_count": 167,
   "metadata": {},
   "outputs": [
    {
     "data": {
      "text/plain": [
       "<function matplotlib.pyplot.show(close=None, block=None)>"
      ]
     },
     "execution_count": 167,
     "metadata": {},
     "output_type": "execute_result"
    },
    {
     "data": {
      "image/png": "[encoded data removed]",
      "text/plain": [
       "<Figure size 432x288 with 5 Axes>"
      ]
     },
     "metadata": {
      "needs_background": "light"
     },
     "output_type": "display_data"
    }
   ],
   "source": [
    "# 초기 활성화값 분포 - std=0.007\n",
    "for i,k in enumerate(network.activation.keys()):\n",
    "    plt.subplot(1, 5,i+1)\n",
    "    plt.title(str(i+1)+'layer')\n",
    "    plt.hist(network.activation[k].flatten(),30,range=(0,1))\n",
    "plt.show"
   ]
  },
  {
   "cell_type": "code",
   "execution_count": 149,
   "metadata": {
    "scrolled": true
   },
   "outputs": [
    {
     "data": {
      "text/plain": [
       "<function matplotlib.pyplot.show(close=None, block=None)>"
      ]
     },
     "execution_count": 149,
     "metadata": {},
     "output_type": "execute_result"
    },
    {
     "data": {
      "image/png": "[encoded data removed]",
      "text/plain": [
       "<Figure size 432x288 with 5 Axes>"
      ]
     },
     "metadata": {
      "needs_background": "light"
     },
     "output_type": "display_data"
    }
   ],
   "source": [
    "# 10000번 학습후 활성화값 분포\n",
    "for i,k in enumerate(network.activation.keys()):\n",
    "    plt.subplot(1, 5,i+1)\n",
    "    plt.title(str(i+1)+'layer')\n",
    "    plt.hist(network.activation[k].flatten(),30,range=(0,1))\n",
    "plt.show"
   ]
  },
  {
   "cell_type": "code",
   "execution_count": null,
   "metadata": {},
   "outputs": [],
   "source": []
  }
 ],
 "metadata": {
  "kernelspec": {
   "display_name": "Python 3",
   "language": "python",
   "name": "python3"
  },
  "language_info": {
   "codemirror_mode": {
    "name": "ipython",
    "version": 3
   },
   "file_extension": ".py",
   "mimetype": "text/x-python",
   "name": "python",
   "nbconvert_exporter": "python",
   "pygments_lexer": "ipython3",
   "version": "3.8.5"
  }
 },
 "nbformat": 4,
 "nbformat_minor": 4
}
