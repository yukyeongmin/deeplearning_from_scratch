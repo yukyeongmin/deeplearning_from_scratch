{
 "cells": [
  {
   "cell_type": "code",
   "execution_count": 1,
   "metadata": {},
   "outputs": [
    {
     "name": "stdout",
     "output_type": "stream",
     "text": [
      "WARNING:tensorflow:From C:\\Users\\fibik\\anaconda3\\lib\\site-packages\\tensorflow\\python\\compat\\v2_compat.py:96: disable_resource_variables (from tensorflow.python.ops.variable_scope) is deprecated and will be removed in a future version.\n",
      "Instructions for updating:\n",
      "non-resource variables are not supported in the long term\n"
     ]
    }
   ],
   "source": [
    "# https://limitsinx.tistory.com/28 참고\n",
    "import numpy as np\n",
    "np.random.seed(0)\n",
    "import tensorflow.compat.v1 as tf\n",
    "tf.disable_v2_behavior()"
   ]
  },
  {
   "cell_type": "code",
   "execution_count": 2,
   "metadata": {},
   "outputs": [
    {
     "name": "stdout",
     "output_type": "stream",
     "text": [
      "b'Hello, tensorflow'\n"
     ]
    }
   ],
   "source": [
    "# tensorflow tutorial 1 - tf.Sesson(), sess.run()\n",
    "hello = tf.constant(\"Hello, tensorflow\")\n",
    "sess = tf.Session()\n",
    "print(sess.run(hello))"
   ]
  },
  {
   "cell_type": "code",
   "execution_count": 3,
   "metadata": {},
   "outputs": [],
   "source": [
    "# tensorflow tutorial 2 - tf.constant(), tf.add()\n",
    "node1 = tf.constant(3.0, tf.float32)\n",
    "node2 = tf.constant(4.0)\n",
    "node3 = tf.add(node1, node2)"
   ]
  },
  {
   "cell_type": "code",
   "execution_count": 4,
   "metadata": {},
   "outputs": [
    {
     "name": "stdout",
     "output_type": "stream",
     "text": [
      "[3.0, 4.0]\n",
      "7.0\n"
     ]
    }
   ],
   "source": [
    "sess = tf.Session()\n",
    "print(sess.run([node1, node2]))\n",
    "print(sess.run(node3))"
   ]
  },
  {
   "cell_type": "code",
   "execution_count": 5,
   "metadata": {},
   "outputs": [],
   "source": [
    "# tensorflow tutorial 3 - tf.placeholder(), sess.run(모델, 매개변수)\n",
    "a = tf.placeholder(tf.float32) \n",
    "b = tf.placeholder(tf.float32)\n",
    "adder_node = a + b"
   ]
  },
  {
   "cell_type": "code",
   "execution_count": 6,
   "metadata": {},
   "outputs": [
    {
     "name": "stdout",
     "output_type": "stream",
     "text": [
      "7.0\n",
      "[7. 5.]\n"
     ]
    }
   ],
   "source": [
    "sess = tf.Session()\n",
    "print(sess.run(adder_node, feed_dict={a:3, b:4}))\n",
    "# 형식을 지정하지 않았기 때문에 Integer와 Array 동시 수용 가능\n",
    "print(sess.run(adder_node, feed_dict={a:[3,4], b:[4,1]}))"
   ]
  },
  {
   "cell_type": "code",
   "execution_count": 3,
   "metadata": {
    "scrolled": true
   },
   "outputs": [
    {
     "name": "stdout",
     "output_type": "stream",
     "text": [
      "0 6.4458833 [-0.05461195] [-0.2791675]\n",
      "100 0.002124303 [0.94646144] [0.12168481]\n",
      "200 0.0013126897 [0.95791984] [0.09565799]\n",
      "300 0.00081116316 [0.9669212] [0.07519585]\n",
      "400 0.0005012496 [0.97399706] [0.05911082]\n",
      "500 0.00030974174 [0.97955924] [0.04646655]\n",
      "600 0.00019140072 [0.9839318] [0.03652684]\n",
      "700 0.00011827352 [0.987369] [0.02871334]\n",
      "800 7.3087576e-05 [0.9900707] [0.02257147]\n",
      "900 4.5162626e-05 [0.99219483] [0.01774309]\n",
      "1000 2.790796e-05 [0.9938644] [0.01394768]\n",
      "1100 1.7244705e-05 [0.9951769] [0.01096408]\n",
      "1200 1.0656483e-05 [0.9962086] [0.00861877]\n",
      "1300 6.5848308e-06 [0.9970196] [0.00677508]\n",
      "1400 4.0690993e-06 [0.9976571] [0.0053259]\n",
      "1500 2.5144855e-06 [0.9981583] [0.00418668]\n",
      "1600 1.5539005e-06 [0.99855226] [0.00329116]\n",
      "1700 9.602094e-07 [0.99886185] [0.00258719]\n",
      "1800 5.9344137e-07 [0.9991052] [0.00203387]\n",
      "1900 3.6680845e-07 [0.9992966] [0.001599]\n",
      "2000 2.2671189e-07 [0.9994469] [0.00125715]\n"
     ]
    }
   ],
   "source": [
    "# tensorflow tutorial 4 - linear regression\n",
    "\n",
    "# 학습데이터\n",
    "x_train = [1,2,3]\n",
    "y_train = [1,2,3]\n",
    "\n",
    "# 추정할 기울기와 절편\n",
    "W = tf.Variable(tf.random_normal([1]), name='weight') # 1칸짜리 변수를 랜덤으로 추가, 변수의 이름은 weight로 설정\n",
    "b = tf.Variable(tf.random_normal([1]), name='bias')\n",
    "\n",
    "hypothesis = x_train * W + b\n",
    "cost = tf.reduce_mean(tf.square(hypothesis - y_train)) # 편차 제곱?\n",
    "optimizer = tf.train.GradientDescentOptimizer(learning_rate = 0.01)\n",
    "train = optimizer.minimize(cost)\n",
    "\n",
    "sess = tf.Session()\n",
    "sess.run(tf.global_variables_initializer())\n",
    "\n",
    "for step in range(2001):\n",
    "    sess.run(train) # 학습시작\n",
    "    if step%100 == 0:\n",
    "        print(step, sess.run(cost), sess.run(W), sess.run(b))"
   ]
  },
  {
   "cell_type": "code",
   "execution_count": 4,
   "metadata": {},
   "outputs": [],
   "source": [
    "# tensorflow tutorial 5 - multi linear regression\n",
    "\n",
    "x1_data = [73., 93., 89., 96., 73.]\n",
    "x2_data = [80., 88., 91., 98., 66.]\n",
    "x3_data = [75., 93., 90., 100., 70.]\n",
    "y_data = [152., 185., 180., 196., 142.]\n",
    "\n",
    "# for training examples use tf.placeholder\n",
    "x1 = tf.placeholder(tf.float32)\n",
    "x2 = tf.placeholder(tf.float32)\n",
    "x3 = tf.placeholder(tf.float32)\n",
    "Y = tf.placeholder(tf.float32)"
   ]
  },
  {
   "cell_type": "code",
   "execution_count": 5,
   "metadata": {},
   "outputs": [],
   "source": [
    "# trainable variables -> tf.random_normal\n",
    "w1 = tf.Variable(tf.random_normal([1]), name ='weight1')\n",
    "w2 = tf.Variable(tf.random_normal([1]), name ='weight2')\n",
    "w3 = tf.Variable(tf.random_normal([1]), name ='weight3')\n",
    "b = tf.Variable(tf.random_normal([1]), name ='bias')\n",
    "hypothesis = x1 * w1 + x2 * w2 + x3 * w3 + b"
   ]
  },
  {
   "cell_type": "code",
   "execution_count": 6,
   "metadata": {},
   "outputs": [],
   "source": [
    "cost = tf.reduce_mean(tf.square(hypothesis - Y))\n",
    "optimizer = tf.train.GradientDescentOptimizer(learning_rate = 1e-5)\n",
    "train = optimizer.minimize(cost)"
   ]
  },
  {
   "cell_type": "code",
   "execution_count": 13,
   "metadata": {},
   "outputs": [
    {
     "name": "stdout",
     "output_type": "stream",
     "text": [
      "0 Cost :  121688.67 \n",
      "Prediction:\n",
      " [-160.8642  -185.67337 -186.94498 -201.56116 -141.64966] \n",
      "Weight,bias :\n",
      " [-0.03807741] [-0.75020957] [0.52566046] [-1.2601628]\n",
      "1000 Cost :  2.4898064 \n",
      "Prediction:\n",
      " [149.08809 186.05853 179.75372 197.65515 141.77834] \n",
      "Weight,bias :\n",
      " [0.6867333] [0.0726983] [1.2585306] [-1.2487322]\n",
      "2000 Cost :  2.0783129 \n",
      "Prediction:\n",
      " [149.42252 185.83504 179.86351 197.67758 141.53316] \n",
      "Weight,bias :\n",
      " [0.6649865] [0.12479357] [1.2285522] [-1.2461096]\n"
     ]
    }
   ],
   "source": [
    "sess = tf.Session()\n",
    "sess.run(tf.global_variables_initializer()) # tf.placeholder로 처리된 부분의 값 초기화\n",
    "\n",
    "for step in range(2001):\n",
    "    cost_val, hy_val, _ = sess.run([cost, hypothesis, train],\n",
    "    feed_dict = {x1 : x1_data, x2 : x2_data, x3 : x3_data, Y : y_data})\n",
    "    if step%1000 == 0 :\n",
    "        print(step, \"Cost : \",cost_val,\"\\nPrediction:\\n\",hy_val, \n",
    "        \"\\nWeight,bias :\\n\",sess.run(w1),sess.run(w2),sess.run(w3),sess.run(b))"
   ]
  },
  {
   "cell_type": "markdown",
   "metadata": {},
   "source": [
    "# 데이터 입력시 n차 배열을 이용하려면? 이용한다면?\n",
    "\n",
    " x=tf.placeholder(tf.float32, shape=[None,3]) 의 의미를 알아야 한다.\n",
    " 위의 예시 같은 경우 각 변수들을 따로 적어주었기 때문에 shape를 표시할 필요가 없었지만, 만약 x= [[73., 80., 75.], [93.,88.,93.], ...] y = [152., 185., ...] 의 형태로 표현할거라면 x_data가 어떤 matrix형태인지 지정해주는 것이 필요하다.\n",
    " \n",
    " shape = [None, 3]이란 행은 상관없고, 열이 3개임을 의미한다. \n",
    " 즉, x_data 3개를 [a,b,c]로 표현한다는 뜻이다.\n",
    " \n",
    " x_data를 위와같은 형태로 바꿔주면 tf.Variable(tf.random_normal([3,1]), name='weight') 도 바꿔줘야 한다.\n",
    " \n",
    " *cf. tf.Variable()은 학습시킬 변수에 사용하고, tf.placeholder()는 학습에 사용할 데이터를 표현할 때 사용한다.*"
   ]
  },
  {
   "cell_type": "code",
   "execution_count": 24,
   "metadata": {},
   "outputs": [
    {
     "name": "stdout",
     "output_type": "stream",
     "text": [
      "\n",
      "\n",
      " 0 101.9589 [[-0.20985697]\n",
      " [-1.1469597 ]\n",
      " [-1.9385301 ]\n",
      " [-2.7301006 ]\n",
      " [-2.9803534 ]] \n",
      "W_Val: [[ 0.24012478]\n",
      " [-0.4347987 ]] \n",
      "b_val: [0.20553057]\n",
      "\n",
      "\n",
      " 500 3.9403126 [[ 2.6883283]\n",
      " [ 4.5902348]\n",
      " [ 7.0587   ]\n",
      " [ 9.527166 ]\n",
      " [11.327959 ]] \n",
      "W_Val: [[0.5658036 ]\n",
      " [0.66804665]] \n",
      "b_val: [1.4560184]\n",
      "\n",
      "\n",
      " 1000 2.279087 [[ 3.3621557]\n",
      " [ 5.246849 ]\n",
      " [ 7.3844953]\n",
      " [ 9.5221405]\n",
      " [10.843918 ]] \n",
      "W_Val: [[0.25244182]\n",
      " [0.81609744]] \n",
      "b_val: [2.2947888]\n",
      "\n",
      "\n",
      " 1500 1.3577532 [[ 3.8766491]\n",
      " [ 5.724984 ]\n",
      " [ 7.6169977]\n",
      " [ 9.509011 ]\n",
      " [10.498696 ]] \n",
      "W_Val: [[0.04334305]\n",
      " [0.90245265]] \n",
      "b_val: [2.9317517]\n",
      "\n",
      "\n",
      " 2000 0.8396627 [[ 4.2724013]\n",
      " [ 6.0724254]\n",
      " [ 7.781596 ]\n",
      " [ 9.490767 ]\n",
      " [10.2544985]] \n",
      "W_Val: [[-0.09106346]\n",
      " [ 0.94549143]] \n",
      "b_val: [3.4186673]\n"
     ]
    }
   ],
   "source": [
    "# tensorflow tutorial 6 - multi linear regression different ver.\n",
    "\n",
    "x_data = [[1,1], [2,3], [4,5], [6,7], [8,8]]\n",
    "y_data = [[6], [7], [8], [9], [10]]\n",
    "\n",
    "x = tf.placeholder(tf.float32, shape =[None,2])\n",
    "y = tf.placeholder(tf.float32, shape =[None,1])\n",
    "w = tf.Variable(tf.random_normal([2,1]))\n",
    "b = tf.Variable(tf.random_normal([1]))\n",
    "\n",
    "hypothesis = tf.matmul(x,w)+b\n",
    "cost = tf.reduce_mean(tf.square(hypothesis - y))\n",
    "train = tf.train.GradientDescentOptimizer(learning_rate = 0.001).minimize(cost)\n",
    "\n",
    "sess = tf.Session()\n",
    "sess.run(tf.global_variables_initializer())\n",
    "\n",
    "for step in range(2001):\n",
    "    cost_val, hy_val, _, W_val, b_val =sess.run([cost, hypothesis, train, w, b], \n",
    "                                               feed_dict={x:x_data, y:y_data})\n",
    "    if step % 500 == 0:\n",
    "        print( \"\\n\\n\",step, cost_val, hy_val,\"\\nW_Val:\", W_val,\"\\nb_val:\", b_val)"
   ]
  },
  {
   "cell_type": "code",
   "execution_count": null,
   "metadata": {},
   "outputs": [],
   "source": []
  },
  {
   "cell_type": "code",
   "execution_count": null,
   "metadata": {},
   "outputs": [],
   "source": []
  }
 ],
 "metadata": {
  "kernelspec": {
   "display_name": "Python 3",
   "language": "python",
   "name": "python3"
  },
  "language_info": {
   "codemirror_mode": {
    "name": "ipython",
    "version": 3
   },
   "file_extension": ".py",
   "mimetype": "text/x-python",
   "name": "python",
   "nbconvert_exporter": "python",
   "pygments_lexer": "ipython3",
   "version": "3.8.5"
  }
 },
 "nbformat": 4,
 "nbformat_minor": 4
}
