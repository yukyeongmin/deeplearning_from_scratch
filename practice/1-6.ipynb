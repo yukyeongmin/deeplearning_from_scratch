{
 "cells": [
  {
   "cell_type": "markdown",
   "metadata": {},
   "source": [
    "# ch.6 학습 관련 기술들 # "
   ]
  },
  {
   "cell_type": "markdown",
   "metadata": {},
   "source": [
    "## 6.2 가중치의 초기값 ##"
   ]
  },
  {
   "cell_type": "markdown",
   "metadata": {},
   "source": [
    "활성화 값의 초기값에 따른 학습차이를 알아보기 위해 ch5에서 만들었던 mnist용 2층 신경망과 추가로 만들어본 5층 신경망을 그대로 가져왔다. 이 신경망에 단순히 random.randn()의 표준편차를 조절한것이 아닌 Xavier, He를 적용해보도록 하겠다. (표준편차를 조절해본것은  1-5에 있다.)"
   ]
  },
  {
   "cell_type": "code",
   "execution_count": 1,
   "metadata": {},
   "outputs": [],
   "source": [
    "import numpy as np\n",
    "from matplotlib import pyplot as plt\n",
    "import sys, os\n",
    "sys.path.append(os.getcwd())"
   ]
  },
  {
   "cell_type": "code",
   "execution_count": 2,
   "metadata": {},
   "outputs": [],
   "source": [
    "class ReLu:\n",
    "    # np.array 형태의 input, output을 가정\n",
    "    def __init__(self):\n",
    "        self.mask = None # 0보다 큰지 작은지 저장\n",
    "        \n",
    "    def forward(self,x):\n",
    "        self.mask = (x <= 0)\n",
    "        out = x.copy()  # shallow copy\n",
    "        out[self.mask] = 0 # mask 가 true일때 0을 return 하도록\n",
    "        \n",
    "        return out\n",
    "    \n",
    "    def backward(self,dout):\n",
    "        dout[self.mask] = 0 \n",
    "        dx = dout # 나머지는 *1 이라 변화 없음\n",
    "        \n",
    "        return dx"
   ]
  },
  {
   "cell_type": "code",
   "execution_count": 3,
   "metadata": {},
   "outputs": [],
   "source": [
    "class sigmoid:\n",
    "    def __init__(self):\n",
    "        self.out = None\n",
    "        \n",
    "    def forward(self, x):\n",
    "        out = 1/(1+exp(-x))\n",
    "        \n",
    "        return out\n",
    "    \n",
    "    def backward(self, dout):\n",
    "        dx = dout * (1.0 - self.out) *self.out\n",
    "        \n",
    "        return dx        "
   ]
  },
  {
   "cell_type": "code",
   "execution_count": 4,
   "metadata": {},
   "outputs": [],
   "source": [
    "class Affine:\n",
    "    def __init__(self,W,b):\n",
    "        self.W = W\n",
    "        self.b = b\n",
    "        self.X = None\n",
    "        self.dW = None\n",
    "        self.db = None\n",
    "        \n",
    "    def forward(self,X):\n",
    "        self.X = X\n",
    "        out = np.dot(X,self.W)+self.b  \n",
    "        \n",
    "        return out\n",
    "    \n",
    "    def backward(self,dout):\n",
    "        dX = np.dot(dout, self.W.T)\n",
    "        self.dW = np.dot(self.X.T, dout) # 순서주의\n",
    "        self.db = np.sum(dout, axis = 0) # 상류의 dout을 데이터마다 더함\n",
    "        \n",
    "        return dX"
   ]
  },
  {
   "cell_type": "code",
   "execution_count": 5,
   "metadata": {},
   "outputs": [],
   "source": [
    "from scratch.common.functions import softmax, cross_entropy_error\n",
    "from scratch.common.gradient import numerical_gradient\n",
    "from scratch.dataset.mnist import load_mnist\n",
    "from collections import OrderedDict"
   ]
  },
  {
   "cell_type": "code",
   "execution_count": 6,
   "metadata": {},
   "outputs": [],
   "source": [
    "class SoftmaxWithLoss:\n",
    "    def __init_(self):\n",
    "        self.loss = None\n",
    "        self.y = None # softmax결과\n",
    "        self.t = None # 정답\n",
    "        \n",
    "    def forward(self, x, t): # 추정치, 정답\n",
    "        self.t = t\n",
    "        self.y = softmax(x)\n",
    "        self.loss = cross_entropy_error(self.y, self.t)\n",
    "        \n",
    "        return self.loss\n",
    "    \n",
    "    def backward(self, dout = 1): # dL/dL =1\n",
    "        batch_size = self.t.shape[0] # 데이터 수\n",
    "        dx = (self.y -self.t)/batch_size # 부록 A 291p참고\n",
    "        \n",
    "        return dx"
   ]
  },
  {
   "cell_type": "code",
   "execution_count": 7,
   "metadata": {},
   "outputs": [],
   "source": [
    "class TwoLayerNet: # 은닉층 1개\n",
    "    def __init__(self, input_size, hidden_size, output_size, weight_init_std=0.01, init_type='std'):\n",
    "        \n",
    "        # parameter 초기화\n",
    "        self.params={}\n",
    "\n",
    "        if init_type=='std':\n",
    "            #standard deviation 이용 초기값   \n",
    "            pass \n",
    "        \n",
    "            self.params['W1'] = weight_init_std * np.random.randn(input_size,hidden_size)\n",
    "            self.params['W2'] = weight_init_std * np.random.randn(hidden_size,output_size)\n",
    "\n",
    "        elif init_type=='Xavier':\n",
    "            #Xavier 초기값        \n",
    "            self.params['W1'] = np.random.randn(input_size,hidden_size)/np.sqrt(input_size)\n",
    "            self.params['W2'] = np.random.randn(hidden_size,output_size)/np.sqrt(hidden_size)\n",
    "\n",
    "        elif init_type=='He':\n",
    "            #He 초기값\n",
    "            self.params['W1'] = np.sqrt(2)*np.random.randn(input_size,hidden_size)/np.sqrt(input_size)\n",
    "            self.params['W2'] = np.sqrt(2)*np.random.randn(hidden_size,output_size)/np.sqrt(hidden_size)\n",
    "        \n",
    "        else:\n",
    "            raise Exception(\"매개변수 초기화 방식 잘못 입력함\")\n",
    "        \n",
    "        self.params['b1'] = np.zeros(hidden_size)\n",
    "        self.params['b2'] = np.zeros(output_size)\n",
    "    \n",
    "        # 계층 만들기\n",
    "        self.layers = OrderedDict() # 순서가 있는 dictionary -> 추가한 순서를 기억한다.\n",
    "        self.layers['Affine1'] = Affine(self.params['W1'],self.params['b1'])\n",
    "        self.layers['ReLu1'] = ReLu()\n",
    "        self.layers['Affine2'] = Affine(self.params['W2'],self.params['b2'])\n",
    "        self.layers['ReLu2'] = ReLu()\n",
    "        self.lastLayer = SoftmaxWithLoss()\n",
    "        \n",
    "        \n",
    "        # 활성화값 확일을 위한 공간\n",
    "        self.activation = {}\n",
    "        \n",
    "    def predict(self, x):\n",
    "        for layer in self.layers.values(): # layers는 dictionary 이므로 values()필요\n",
    "            x = layer.forward(x) # 각 계층에 forward가 구현되어 있음\n",
    "            \n",
    "            # 활성화 값 확인을 위해\n",
    "            if isinstance(layer,ReLu):\n",
    "                self.activation[layer]=x\n",
    "            \n",
    "        return x # 모든 layer를 지난 결과\n",
    "    \n",
    "    def loss(self, x, t):\n",
    "        y = self.predict(x) # 추정치\n",
    "        \n",
    "        return self.lastLayer.forward(y,t)\n",
    "        \n",
    "    def accuracy(self, x, t):      # 전체 데이터 중에서 올바른 추정 비율\n",
    "        y = self.predict(x)        # 출력 (1 x n)  # 각 label별 계산 결과\n",
    "        y = np.argmax(y, axis = 1) # 1x1 로 변환\n",
    "        \n",
    "        if t.ndim != 1: t = np.argmax(t, axis = 1)  # 1x1 형태로 변환 (원래 one hot vector 형태였음)\n",
    "            \n",
    "        accuracy = np.sum(y==t) / float(x.shape[0]) # 올바른 추정 수 /전체 데이터 수\n",
    "        \n",
    "        return accuracy\n",
    "    \n",
    "    # ch.4 방식 - 직접 gradient 계산하기\n",
    "    def numerical_gradient(self, x, t):\n",
    "        \n",
    "        loss_W = lambda W: self.loss(x,t)\n",
    "        \n",
    "        grads={}\n",
    "        grads['W1'] = numerical_gradient(loss_W, self.params['W1'])\n",
    "        grads['b1'] = numerical_gradient(loss_W, self.params['b1'])\n",
    "        grads['W2'] = numerical_gradient(loss_W, self.params['W2'])\n",
    "        grads['b2'] = numerical_gradient(loss_W, self.params['b2'])\n",
    "        \n",
    "        return grads\n",
    "        \n",
    "    # 오차 역전파를 이용한 gradient 구하기\n",
    "    def gradient(self, x, t):\n",
    "        \n",
    "        #  순전파\n",
    "        self.loss(x, t)\n",
    "        \n",
    "        # dL/dL = 1\n",
    "        dout = 1            \n",
    "        dout = self.lastLayer.backward(dout)\n",
    "        \n",
    "        layers = list(self.layers.values()) # 순서를 뒤집기 위해 list로 변경\n",
    "        layers.reverse()\n",
    "        \n",
    "        # 역전파 진행\n",
    "        for layer in layers:\n",
    "            dout = layer.backward(dout)\n",
    "            # backward를 진행하면서 각 layer내 dX,dY등이 업데이트 됨 (저장됨)\n",
    "            \n",
    "        # 결과 저장\n",
    "        grads={}\n",
    "        grads['W1'] = self.layers['Affine1'].dW\n",
    "        grads['b1'] = self.layers['Affine1'].db\n",
    "        grads['W2'] = self.layers['Affine2'].dW\n",
    "        grads['b2'] = self.layers['Affine2'].db\n",
    "        \n",
    "        return grads "
   ]
  },
  {
   "cell_type": "code",
   "execution_count": 8,
   "metadata": {},
   "outputs": [
    {
     "name": "stdout",
     "output_type": "stream",
     "text": [
      "[0.9712, 0.9481, 0.9206]\n",
      "[0.5706, 0.6505, 0.5321]\n",
      "[0.7612, 0.7417, 0.7633]\n",
      "[0.7802, 0.8099, 0.8004]\n",
      "[0.6847, 0.7014, 0.6619]\n",
      "5회평균 정확도: [0.75358 0.77032 0.73566]\n"
     ]
    }
   ],
   "source": [
    "(x_train, t_train), (x_test, t_test) = load_mnist(normalize=True, one_hot_label=True)\n",
    "\n",
    "iteration = 10000\n",
    "train_size = x_train.shape[0]\n",
    "batch_size = 100\n",
    "learning_rate = 0.1\n",
    "\n",
    "train_loss_list=[[],[],[]]\n",
    "train_acc_list=[]\n",
    "test_acc_list=[]\n",
    "last_acc_list=[]\n",
    "\n",
    "iter_per_epoch = max(train_size/batch_size, 1) # 몇번의 batch선택을 해야되는지 / batch size가 전체 data보다 작을수도 있으니 확인\n",
    "\n",
    "\n",
    "for j in range(5):\n",
    "    network_std = TwoLayerNet(input_size = 784, hidden_size=50, output_size = 10) \n",
    "    network_X = TwoLayerNet(input_size = 784, hidden_size=50, output_size = 10, init_type='Xavier') \n",
    "    network_He = TwoLayerNet(input_size = 784, hidden_size=50, output_size = 10, init_type='He') \n",
    "\n",
    "    for i in range(iteration):\n",
    "        # mini batch생성\n",
    "        batch_mask = np.random.choice(train_size, batch_size) # 무작위로 100개의 데이터 선택\n",
    "        x_batch = x_train[batch_mask]\n",
    "        t_batch = t_train[batch_mask]\n",
    "\n",
    "        # gradient구하기 (오차 역전파법)\n",
    "        grad_std = network_std.gradient(x_batch, t_batch)\n",
    "        grad_X = network_std.gradient(x_batch, t_batch)\n",
    "        grad_He = network_std.gradient(x_batch, t_batch)\n",
    "\n",
    "        # parameter update\n",
    "        for key in ('W1','b1','W2','b2'):\n",
    "            network_std.params[key] -= learning_rate * grad_std[key]\n",
    "            network_X.params[key] -= learning_rate * grad_X[key]\n",
    "            network_He.params[key] -= learning_rate * grad_He[key]\n",
    "\n",
    "        # 업데이트된 parameter로 loss 계산\n",
    "        loss = network_std.loss(x_batch, t_batch)\n",
    "        train_loss_list[0].append(loss)\n",
    "\n",
    "        loss = network_X.loss(x_batch, t_batch)\n",
    "        train_loss_list[1].append(loss)\n",
    "\n",
    "        loss = network_He.loss(x_batch, t_batch)\n",
    "        train_loss_list[2].append(loss)\n",
    "\n",
    "        if i%1000==0 or i==(iteration-1):\n",
    "            # 전체 데이터를 학습에 사용하고 나면 전체 데이터에 대한 정확도 계산\n",
    "            train_acc = [network_std.accuracy(x_train, t_train) ,network_X.accuracy(x_train, t_train) ,network_He.accuracy(x_train, t_train)] \n",
    "            test_acc = [network_std.accuracy(x_test, t_test), network_X.accuracy(x_test, t_test), network_He.accuracy(x_test, t_test)]\n",
    "            train_acc_list.append(train_acc)\n",
    "            test_acc_list.append(test_acc)\n",
    "\n",
    "\n",
    "    last_acc_list.append(test_acc)\n",
    "    print(test_acc)\n",
    "    \n",
    "print('5회평균 정확도:',np.average(last_acc_list, axis=0))"
   ]
  },
  {
   "cell_type": "code",
   "execution_count": 9,
   "metadata": {},
   "outputs": [
    {
     "data": {
      "text/plain": [
       "[784, 100, 100, 100, 100, 10]"
      ]
     },
     "execution_count": 9,
     "metadata": {},
     "output_type": "execute_result"
    }
   ],
   "source": [
    "[784]+[100,100,100,100]+[10]"
   ]
  },
  {
   "cell_type": "markdown",
   "metadata": {},
   "source": [
    "### 2층 신경망에 std = 0.01을 활성화값의 초기값으로 사용했을때 학습후 활성화 값의 분포 ###"
   ]
  },
  {
   "cell_type": "code",
   "execution_count": 48,
   "metadata": {
    "scrolled": false
   },
   "outputs": [
    {
     "data": {
      "text/plain": [
       "(array([5.54042e+05, 2.76000e+02, 2.60000e+02, 2.67000e+02, 2.82000e+02,\n",
       "        2.49000e+02, 2.65000e+02, 2.67000e+02, 2.42000e+02, 2.63000e+02,\n",
       "        2.40000e+02, 2.45000e+02, 2.57000e+02, 2.39000e+02, 2.25000e+02,\n",
       "        2.21000e+02, 2.29000e+02, 2.09000e+02, 2.05000e+02, 1.87000e+02,\n",
       "        2.20000e+02, 2.18000e+02, 2.04000e+02, 2.12000e+02, 2.29000e+02,\n",
       "        2.19000e+02, 2.09000e+02, 2.23000e+02, 1.93000e+02, 1.97000e+02]),\n",
       " array([0.        , 0.03333333, 0.06666667, 0.1       , 0.13333333,\n",
       "        0.16666667, 0.2       , 0.23333333, 0.26666667, 0.3       ,\n",
       "        0.33333333, 0.36666667, 0.4       , 0.43333333, 0.46666667,\n",
       "        0.5       , 0.53333333, 0.56666667, 0.6       , 0.63333333,\n",
       "        0.66666667, 0.7       , 0.73333333, 0.76666667, 0.8       ,\n",
       "        0.83333333, 0.86666667, 0.9       , 0.93333333, 0.96666667,\n",
       "        1.        ]),\n",
       " <BarContainer object of 30 artists>)"
      ]
     },
     "execution_count": 48,
     "metadata": {},
     "output_type": "execute_result"
    },
    {
     "data": {
      "image/png": "[encoded data removed]",
      "text/plain": [
       "<Figure size 1152x576 with 2 Axes>"
      ]
     },
     "metadata": {
      "needs_background": "light"
     },
     "output_type": "display_data"
    }
   ],
   "source": [
    "# std = 0.01 초기값 사용시 2층 신경망의 활성화값 변화 (시작시)->(10000회의 반복문이 끝난후) 정확도 57퍼센트\n",
    "plt.figure(figsize=(16,8))\n",
    "plt.subplot(1,2,1)\n",
    "plt.ylim(0,10000)\n",
    "plt.hist(network.activation[5].flatten(),30,range=(0,1))\n",
    "\n",
    "plt.subplot(1,2,2)\n",
    "plt.ylim(0,10000)\n",
    "plt.hist(network.activation[-3].flatten(),30,range=(0,1))"
   ]
  },
  {
   "cell_type": "markdown",
   "metadata": {},
   "source": [
    "### 2층 신경망에 Xavier을 활성화값의 초기값으로 사용했을때 학습후 활성화 값의 분포 ###"
   ]
  },
  {
   "cell_type": "code",
   "execution_count": 44,
   "metadata": {
    "scrolled": false
   },
   "outputs": [
    {
     "data": {
      "text/plain": [
       "(array([445326.,    901.,    888.,    890.,    912.,    890.,    888.,\n",
       "           889.,    800.,    858.,    838.,    830.,    849.,    885.,\n",
       "           825.,    824.,    813.,    796.,    810.,    844.,    806.,\n",
       "           828.,    815.,    785.,    841.,    794.,    827.,    787.,\n",
       "           795.,    783.]),\n",
       " array([0.        , 0.03333333, 0.06666667, 0.1       , 0.13333333,\n",
       "        0.16666667, 0.2       , 0.23333333, 0.26666667, 0.3       ,\n",
       "        0.33333333, 0.36666667, 0.4       , 0.43333333, 0.46666667,\n",
       "        0.5       , 0.53333333, 0.56666667, 0.6       , 0.63333333,\n",
       "        0.66666667, 0.7       , 0.73333333, 0.76666667, 0.8       ,\n",
       "        0.83333333, 0.86666667, 0.9       , 0.93333333, 0.96666667,\n",
       "        1.        ]),\n",
       " <BarContainer object of 30 artists>)"
      ]
     },
     "execution_count": 44,
     "metadata": {},
     "output_type": "execute_result"
    },
    {
     "data": {
      "image/png": "[encoded data removed]",
      "text/plain": [
       "<Figure size 1152x576 with 2 Axes>"
      ]
     },
     "metadata": {
      "needs_background": "light"
     },
     "output_type": "display_data"
    }
   ],
   "source": [
    "# Xavier 초기값 사용시 2층 신경망의 활성화값 변화 (시작시)->(10000회의 반복문이 끝난후) 정확도 77퍼센트\n",
    "plt.figure(figsize=(16,8))\n",
    "plt.subplot(1,2,1)\n",
    "plt.ylim(0,10000)\n",
    "plt.hist(network.activation[5].flatten(),30,range=(0,1))\n",
    "\n",
    "plt.subplot(1,2,2)\n",
    "plt.ylim(0,10000)\n",
    "plt.hist(network.activation[-3].flatten(),30,range=(0,1))"
   ]
  },
  {
   "cell_type": "markdown",
   "metadata": {},
   "source": [
    "### 2층 신경망에 He을 활성화값의 초기값으로 사용했을때 학습후 활성화 값의 분포 ###"
   ]
  },
  {
   "cell_type": "code",
   "execution_count": 52,
   "metadata": {
    "scrolled": false
   },
   "outputs": [
    {
     "data": {
      "text/plain": [
       "(array([207252.,   1485.,   1556.,   1568.,   1527.,   1548.,   1665.,\n",
       "          1544.,   1587.,   1696.,   1623.,   1593.,   1621.,   1598.,\n",
       "          1682.,   1568.,   1630.,   1675.,   1579.,   1691.,   1643.,\n",
       "          1644.,   1668.,   1709.,   1712.,   1721.,   1685.,   1734.,\n",
       "          1640.,   1706.]),\n",
       " array([0.        , 0.03333333, 0.06666667, 0.1       , 0.13333333,\n",
       "        0.16666667, 0.2       , 0.23333333, 0.26666667, 0.3       ,\n",
       "        0.33333333, 0.36666667, 0.4       , 0.43333333, 0.46666667,\n",
       "        0.5       , 0.53333333, 0.56666667, 0.6       , 0.63333333,\n",
       "        0.66666667, 0.7       , 0.73333333, 0.76666667, 0.8       ,\n",
       "        0.83333333, 0.86666667, 0.9       , 0.93333333, 0.96666667,\n",
       "        1.        ]),\n",
       " <BarContainer object of 30 artists>)"
      ]
     },
     "execution_count": 52,
     "metadata": {},
     "output_type": "execute_result"
    },
    {
     "data": {
      "image/png": "[encoded data removed]",
      "text/plain": [
       "<Figure size 1152x576 with 2 Axes>"
      ]
     },
     "metadata": {
      "needs_background": "light"
     },
     "output_type": "display_data"
    }
   ],
   "source": [
    "# He 초기값 사용시 2층 신경망의 활성화값 변화 (시작시)->(10000회의 반복문이 끝난후) 정확도 97퍼센트\n",
    "plt.figure(figsize=(16,8))\n",
    "plt.subplot(1,2,1)\n",
    "plt.ylim(0,10000)\n",
    "plt.hist(network.activation[5].flatten(),30,range=(0,1))\n",
    "\n",
    "plt.subplot(1,2,2)\n",
    "plt.ylim(0,10000)\n",
    "plt.hist(network.activation[-3].flatten(),30,range=(0,1))"
   ]
  },
  {
   "cell_type": "markdown",
   "metadata": {},
   "source": [
    "### 초기화 방식에 따른 활성화값 분포 요약 ###"
   ]
  },
  {
   "cell_type": "code",
   "execution_count": null,
   "metadata": {},
   "outputs": [],
   "source": [
    "plt.figure(figsize=(16,8))\n",
    "for i,key in enumerate(network_std.activation.keys()):\n",
    "    plt.subplot(3,2,i+1)\n",
    "    plt.title('layer'+str(i+1))\n",
    "    plt.ylim(0,7000)\n",
    "    plt.hist(network_std.activation[key].flatten(),30,range=(0,1))\n",
    "    \n",
    "    plt.subplot(3,2,i+3)\n",
    "    plt.title('layer'+str(i+1))\n",
    "    plt.ylim(0,7000)\n",
    "    plt.hist(network_X.activation[key].flatten(),30,range=(0,1))\n",
    "    \n",
    "    plt.subplot(3,2,i+5)\n",
    "    plt.title('layer'+str(i+1))\n",
    "    plt.ylim(0,7000)\n",
    "    plt.hist(network_He.activation[key].flatten(),30,range=(0,1))"
   ]
  },
  {
   "cell_type": "markdown",
   "metadata": {},
   "source": [
    "### 2층 신경망의 parameter 초기화 방식에 따른 정확도 변화 ###"
   ]
  },
  {
   "cell_type": "code",
   "execution_count": 58,
   "metadata": {},
   "outputs": [],
   "source": [
    "test_acc_list = np.array(test_acc_list)"
   ]
  },
  {
   "cell_type": "code",
   "execution_count": 59,
   "metadata": {},
   "outputs": [
    {
     "data": {
      "text/plain": [
       "array([[0.1402, 0.1442, 0.0606],\n",
       "       [0.5518, 0.6392, 0.5063],\n",
       "       [0.5604, 0.6325, 0.5404],\n",
       "       [0.5645, 0.6441, 0.5853],\n",
       "       [0.565 , 0.628 , 0.5825],\n",
       "       [0.5685, 0.6128, 0.6132],\n",
       "       [0.5706, 0.6136, 0.6306],\n",
       "       [0.5721, 0.6087, 0.6425],\n",
       "       [0.5727, 0.5924, 0.6438],\n",
       "       [0.5738, 0.5972, 0.6444],\n",
       "       [0.6682, 0.6693, 0.6931],\n",
       "       [0.1688, 0.1028, 0.0921],\n",
       "       [0.7347, 0.6824, 0.5981],\n",
       "       [0.75  , 0.7254, 0.6463],\n",
       "       [0.758 , 0.7305, 0.6675],\n",
       "       [0.7618, 0.7432, 0.6694],\n",
       "       [0.7744, 0.7968, 0.7689],\n",
       "       [0.7759, 0.801 , 0.7564],\n",
       "       [0.7783, 0.8101, 0.77  ],\n",
       "       [0.7801, 0.8008, 0.7797],\n",
       "       [0.783 , 0.7972, 0.7958],\n",
       "       [0.7832, 0.7999, 0.781 ],\n",
       "       [0.1018, 0.0993, 0.068 ],\n",
       "       [0.9098, 0.8832, 0.6293],\n",
       "       [0.9316, 0.9101, 0.7047],\n",
       "       [0.9448, 0.9249, 0.7488],\n",
       "       [0.9522, 0.9334, 0.7797],\n",
       "       [0.9586, 0.9404, 0.8184],\n",
       "       [0.9624, 0.9405, 0.8271],\n",
       "       [0.9633, 0.9389, 0.8011],\n",
       "       [0.9649, 0.944 , 0.8239],\n",
       "       [0.9663, 0.9441, 0.8294],\n",
       "       [0.9686, 0.9459, 0.84  ],\n",
       "       [0.1066, 0.0897, 0.0978],\n",
       "       [0.8335, 0.7455, 0.752 ],\n",
       "       [0.8494, 0.7341, 0.748 ],\n",
       "       [0.8599, 0.7792, 0.7778],\n",
       "       [0.8637, 0.798 , 0.8015],\n",
       "       [0.8668, 0.8227, 0.8218],\n",
       "       [0.8692, 0.8228, 0.831 ],\n",
       "       [0.8727, 0.8203, 0.8426],\n",
       "       [0.873 , 0.8392, 0.8508],\n",
       "       [0.8751, 0.8359, 0.8572],\n",
       "       [0.8753, 0.8447, 0.8623],\n",
       "       [0.1458, 0.0552, 0.0602],\n",
       "       [0.8337, 0.809 , 0.7886],\n",
       "       [0.8455, 0.8472, 0.8274],\n",
       "       [0.8562, 0.8812, 0.8494],\n",
       "       [0.8624, 0.8836, 0.8501],\n",
       "       [0.8653, 0.8784, 0.8523],\n",
       "       [0.8675, 0.9084, 0.8707],\n",
       "       [0.8701, 0.904 , 0.8692],\n",
       "       [0.8751, 0.9045, 0.8747],\n",
       "       [0.8755, 0.8967, 0.8755],\n",
       "       [0.8763, 0.8988, 0.8738]])"
      ]
     },
     "execution_count": 59,
     "metadata": {},
     "output_type": "execute_result"
    }
   ],
   "source": [
    "test_acc_list"
   ]
  },
  {
   "cell_type": "code",
   "execution_count": 65,
   "metadata": {},
   "outputs": [
    {
     "data": {
      "text/plain": [
       "<matplotlib.legend.Legend at 0x1f205b179a0>"
      ]
     },
     "execution_count": 65,
     "metadata": {},
     "output_type": "execute_result"
    },
    {
     "data": {
      "image/png": "[encoded data removed]",
      "text/plain": [
       "<Figure size 432x288 with 1 Axes>"
      ]
     },
     "metadata": {
      "needs_background": "light"
     },
     "output_type": "display_data"
    }
   ],
   "source": [
    "plt.title('accuracy depends on initailization of parameter')\n",
    "plt.plot(range(0,11),test_acc_list[:,0][44:55],label='std')\n",
    "plt.plot(range(0,11),test_acc_list[:,1][44:55],label='Xavier')\n",
    "plt.plot(range(0,11),test_acc_list[:,2][44:55],label='He')\n",
    "plt.ylim((0,1))\n",
    "plt.xlim((0,10))\n",
    "plt.legend()"
   ]
  },
  {
   "cell_type": "markdown",
   "metadata": {},
   "source": [
    "## 5층 신경망에 다양한 초기화 방식 적용 해보기 ##"
   ]
  },
  {
   "cell_type": "code",
   "execution_count": 8,
   "metadata": {},
   "outputs": [],
   "source": [
    "class FiveLayerNet: # 은닉층 4개\n",
    "    def __init__(self, i, h1, h2, h3, h4, o, weight_init_std = 0.01, init_type = 'std'):\n",
    "        \n",
    "        # parameter 초기화\n",
    "        self.params={}\n",
    "        \n",
    "        if init_type == 'std':\n",
    "            # std = 0.01        \n",
    "            self.params['W1'] = weight_init_std*np.random.randn(i,h1)\n",
    "            self.params['W2'] = weight_init_std*np.random.randn(h1,h2)\n",
    "            self.params['W3'] = weight_init_std*np.random.randn(h2,h3)\n",
    "            self.params['W4'] = weight_init_std*np.random.randn(h3,h4)\n",
    "        \n",
    "        elif init_type == 'Xavier':\n",
    "            # Xavier       \n",
    "            self.params['W1'] = np.random.randn(i,h1)/np.sqrt(i)\n",
    "            self.params['W2'] = np.random.randn(h1,h2)/np.sqrt(h1)\n",
    "            self.params['W3'] = np.random.randn(h2,h3)/np.sqrt(h2)\n",
    "            self.params['W4'] = np.random.randn(h3,h4)/np.sqrt(h3)\n",
    "        \n",
    "        elif init_type == 'He':\n",
    "            # He        \n",
    "            self.params['W1'] = np.sqrt(2)*np.random.randn(i,h1)/np.sqrt(i)\n",
    "            self.params['W2'] = np.sqrt(2)*np.random.randn(h1,h2)/np.sqrt(h1)\n",
    "            self.params['W3'] = np.sqrt(2)*np.random.randn(h2,h3)/np.sqrt(h2)\n",
    "            self.params['W4'] = np.sqrt(2)*np.random.randn(h3,h4)/np.sqrt(h3)\n",
    "        \n",
    "        else:\n",
    "            raise Exception(\"잘못된 가중치 초기화 방식\")\n",
    "\n",
    "        self.params['W5'] = weight_init_std*np.random.randn(h4,o)\n",
    "        \n",
    "        self.params['b1'] = np.zeros(h1)\n",
    "        self.params['b2'] = np.zeros(h2)\n",
    "        self.params['b3'] = np.zeros(h3)\n",
    "        self.params['b4'] = np.zeros(h4)\n",
    "        self.params['b5'] = np.zeros(o)\n",
    "    \n",
    "        # 계층 만들기\n",
    "        self.layers = OrderedDict() # 순서가 있는 dictionary -> 추가한 순서를 기억한다.\n",
    "        self.layers['Affine1'] = Affine(self.params['W1'],self.params['b1'])\n",
    "        self.layers['ReLu1'] = ReLu()\n",
    "        \n",
    "        self.layers['Affine2'] = Affine(self.params['W2'],self.params['b2'])\n",
    "        self.layers['ReLu2'] = ReLu()\n",
    "        \n",
    "        self.layers['Affine3'] = Affine(self.params['W3'],self.params['b3'])\n",
    "        self.layers['ReLu3'] = ReLu()\n",
    "        \n",
    "        self.layers['Affine4'] = Affine(self.params['W4'],self.params['b4'])\n",
    "        self.layers['ReLu4'] = ReLu()\n",
    "        \n",
    "        self.layers['Affine5'] = Affine(self.params['W5'],self.params['b5'])\n",
    "        self.layers['ReLu5'] = ReLu()\n",
    "        \n",
    "        self.lastLayer = SoftmaxWithLoss()\n",
    "        \n",
    "        # 활성화값 저장을 위한 공간\n",
    "        self.activation = {}\n",
    "        \n",
    "        \n",
    "    def predict(self, x):\n",
    "        for index,layer in enumerate(self.layers.values()): # layers는 dictionary 이므로 values()필요\n",
    "            x = layer.forward(x) # 각 계층에 forward가 구현되어 있음\n",
    "            \n",
    "            if isinstance(layer,ReLu):\n",
    "                self.activation[index] = x\n",
    "            \n",
    "        return x # 모든 layer를 지난 결과\n",
    "    \n",
    "    def loss(self, x, t):\n",
    "        y = self.predict(x) # 추정치\n",
    "        \n",
    "        return self.lastLayer.forward(y,t)\n",
    "        \n",
    "    def accuracy(self, x, t):      # 전체 데이터 중에서 올바른 추정 비율\n",
    "        y = self.predict(x)        # 출력 (1 x n)  # 각 label별 계산 결과\n",
    "        y = np.argmax(y, axis = 1) # 1x1 로 변환\n",
    "        \n",
    "        if t.ndim != 1: t = np.argmax(t, axis = 1)  # 1x1 형태로 변환 (원래 one hot vector 형태였음)\n",
    "            \n",
    "        accuracy = np.sum(y==t) / float(x.shape[0]) # 올바른 추정 수 /전체 데이터 수\n",
    "        \n",
    "        return accuracy\n",
    "    \n",
    "    # ch.4 방식 - 직접 gradient 계산하기\n",
    "    def numerical_gradient(self, x, t):\n",
    "        \n",
    "        loss_W = lambda W: self.loss(x,t)\n",
    "        \n",
    "        grads={}\n",
    "        grads['W1'] = numerical_gradient(loss_W, self.params['W1'])\n",
    "        grads['b1'] = numerical_gradient(loss_W, self.params['b1'])\n",
    "        grads['W2'] = numerical_gradient(loss_W, self.params['W2'])\n",
    "        grads['b2'] = numerical_gradient(loss_W, self.params['b2'])\n",
    "        grads['W3'] = numerical_gradient(loss_W, self.params['W3'])\n",
    "        grads['b3'] = numerical_gradient(loss_W, self.params['b3'])\n",
    "        grads['W4'] = numerical_gradient(loss_W, self.params['W4'])\n",
    "        grads['b4'] = numerical_gradient(loss_W, self.params['b4'])\n",
    "        grads['W5'] = numerical_gradient(loss_W, self.params['W5'])\n",
    "        grads['b5'] = numerical_gradient(loss_W, self.params['b5'])\n",
    "        \n",
    "        return grads\n",
    "        \n",
    "    # 오차 역전파를 이용한 gradient 구하기\n",
    "    def gradient(self, x, t):\n",
    "        \n",
    "        #  순전파\n",
    "        self.loss(x, t)\n",
    "        \n",
    "        # dL/dL = 1\n",
    "        dout = 1            \n",
    "        dout = self.lastLayer.backward(dout)\n",
    "        \n",
    "        layers = list(self.layers.values()) # 순서를 뒤집기 위해 list로 변경\n",
    "        layers.reverse()\n",
    "        \n",
    "        # 역전파 진행\n",
    "        for layer in layers:\n",
    "            dout = layer.backward(dout)\n",
    "            # backward를 진행하면서 각 layer내 dX,dY등이 업데이트 됨 (저장됨)\n",
    "            \n",
    "        # 결과 저장\n",
    "        grads={}\n",
    "        grads['W1'] = self.layers['Affine1'].dW\n",
    "        grads['b1'] = self.layers['Affine1'].db\n",
    "        grads['W2'] = self.layers['Affine2'].dW\n",
    "        grads['b2'] = self.layers['Affine2'].db\n",
    "        grads['W3'] = self.layers['Affine3'].dW\n",
    "        grads['b3'] = self.layers['Affine3'].db\n",
    "        grads['W4'] = self.layers['Affine4'].dW\n",
    "        grads['b4'] = self.layers['Affine4'].db\n",
    "        grads['W5'] = self.layers['Affine5'].dW\n",
    "        grads['b5'] = self.layers['Affine5'].db\n",
    "        \n",
    "        return grads "
   ]
  },
  {
   "cell_type": "code",
   "execution_count": 9,
   "metadata": {
    "scrolled": true
   },
   "outputs": [],
   "source": [
    "(x_train, t_train), (x_test, t_test) = load_mnist(normalize=True, one_hot_label=True)"
   ]
  },
  {
   "cell_type": "code",
   "execution_count": 10,
   "metadata": {
    "scrolled": true
   },
   "outputs": [
    {
     "name": "stdout",
     "output_type": "stream",
     "text": [
      "0\n",
      "600\n",
      "1200\n",
      "1800\n",
      "2400\n",
      "3000\n",
      "3600\n",
      "4200\n",
      "4800\n",
      "4999\n"
     ]
    }
   ],
   "source": [
    "iteration = 5000\n",
    "train_size = x_train.shape[0]\n",
    "batch_size = 100\n",
    "learning_rate = 0.1\n",
    "\n",
    "train_loss_list=[[],[],[]]\n",
    "train_acc_list=[[],[],[]]\n",
    "test_acc_list=[[],[],[]]\n",
    "last_acc_list=[[],[],[]]\n",
    "\n",
    "iter_per_epoch = max(train_size/batch_size, 1) # 몇번의 batch선택을 해야되는지 / batch size가 전체 data보다 작을수도 있으니 확인\n",
    "\n",
    "# for k in range(5):\n",
    "\n",
    "network_std = FiveLayerNet(i=784,h1=500,h2=250,h3=100,h4=40,o=10)\n",
    "network_X = FiveLayerNet(i=784,h1=500,h2=250,h3=100,h4=40,o=10, init_type = 'Xavier')\n",
    "network_He = FiveLayerNet(i=784,h1=500,h2=250,h3=100,h4=40,o=10, init_type = 'He')\n",
    "\n",
    "for i in range(iteration):\n",
    "    # mini batch생성\n",
    "    batch_mask = np.random.choice(train_size, batch_size) # 무작위로 100개의 데이터 선택\n",
    "    x_batch = x_train[batch_mask]\n",
    "    t_batch = t_train[batch_mask]\n",
    "\n",
    "    # gradient구하기 (오차 역전파법)\n",
    "    grad_std = network_std.gradient(x_batch, t_batch)\n",
    "    grad_X = network_X.gradient(x_batch, t_batch)\n",
    "    grad_He = network_He.gradient(x_batch, t_batch)\n",
    "\n",
    "    # parameter update\n",
    "    for key in ('W1','b1','W2','b2'):\n",
    "        network_std.params[key] -= learning_rate * grad_std[key]\n",
    "        network_X.params[key] -= learning_rate * grad_X[key]\n",
    "        network_He.params[key] -= learning_rate * grad_He[key]\n",
    "\n",
    "    # 업데이트된 parameter로 loss 계산\n",
    "    loss = network_std.loss(x_batch, t_batch)\n",
    "    train_loss_list[0].append(loss)\n",
    "\n",
    "    loss = network_X.loss(x_batch, t_batch)\n",
    "    train_loss_list[1].append(loss)\n",
    "\n",
    "    loss = network_He.loss(x_batch, t_batch)\n",
    "    train_loss_list[2].append(loss)\n",
    "\n",
    "    if i%iter_per_epoch==0 or i==(iteration-1):\n",
    "        print(i)\n",
    "        # 전체 데이터를 학습에 사용하고 나면 전체 데이터에 대한 정확도 계산\n",
    "#         train_acc = network_std.accuracy(x_train, t_train) \n",
    "#         test_acc = network_std.accuracy(x_test, t_test)\n",
    "        train_acc_list[0].append( network_std.accuracy(x_train, t_train) )\n",
    "        test_acc_list[0].append( network_std.accuracy(x_test, t_test) )\n",
    "        \n",
    "        train_acc_list[1].append( network_X.accuracy(x_train, t_train))\n",
    "        test_acc_list[1].append( network_X.accuracy(x_test, t_test))\n",
    "        \n",
    "        train_acc_list[2].append( network_He.accuracy(x_train, t_train))\n",
    "        test_acc_list[2].append( network_He.accuracy(x_test, t_test))\n",
    "\n",
    "#     last_acc_list.append(test_acc)\n",
    "    \n",
    "# print('5회평균 정확도:',np.average(last_acc_list))"
   ]
  },
  {
   "cell_type": "code",
   "execution_count": 11,
   "metadata": {},
   "outputs": [
    {
     "data": {
      "text/plain": [
       "5"
      ]
     },
     "execution_count": 11,
     "metadata": {},
     "output_type": "execute_result"
    }
   ],
   "source": [
    "len(network_std.activation)"
   ]
  },
  {
   "cell_type": "markdown",
   "metadata": {},
   "source": [
    "### 활성화값 분포 ###"
   ]
  },
  {
   "cell_type": "code",
   "execution_count": 38,
   "metadata": {},
   "outputs": [
    {
     "data": {
      "image/png": "[encoded data removed]",
      "text/plain": [
       "<Figure size 1152x576 with 15 Axes>"
      ]
     },
     "metadata": {
      "needs_background": "light"
     },
     "output_type": "display_data"
    }
   ],
   "source": [
    "plt.figure(figsize=(16,8))\n",
    "for i,key in enumerate(network_std.activation.keys()):\n",
    "    plt.subplot(3,5,i+1)\n",
    "    plt.title('layer'+str(i+1))\n",
    "    plt.ylim(0,7000)\n",
    "    plt.hist(network_std.activation[key].flatten(),30,range=(0,1))\n",
    "    \n",
    "    plt.subplot(3,5,i+6)\n",
    "    plt.title('layer'+str(i+1))\n",
    "    plt.ylim(0,7000)\n",
    "    plt.hist(network_X.activation[key].flatten(),30,range=(0,1))\n",
    "    \n",
    "    plt.subplot(3,5,i+11)\n",
    "    plt.title('layer'+str(i+1))\n",
    "    plt.ylim(0,7000)\n",
    "    plt.hist(network_He.activation[key].flatten(),30,range=(0,1))"
   ]
  },
  {
   "cell_type": "code",
   "execution_count": 13,
   "metadata": {},
   "outputs": [
    {
     "data": {
      "text/plain": [
       "10"
      ]
     },
     "execution_count": 13,
     "metadata": {},
     "output_type": "execute_result"
    }
   ],
   "source": [
    "len(test_acc_list[0])"
   ]
  },
  {
   "cell_type": "markdown",
   "metadata": {},
   "source": [
    "### 정확도 변화 ###"
   ]
  },
  {
   "cell_type": "code",
   "execution_count": 40,
   "metadata": {
    "scrolled": true
   },
   "outputs": [
    {
     "data": {
      "text/plain": [
       "<matplotlib.legend.Legend at 0x1f205a05dc0>"
      ]
     },
     "execution_count": 40,
     "metadata": {},
     "output_type": "execute_result"
    },
    {
     "data": {
      "image/png": "[encoded data removed]",
      "text/plain": [
       "<Figure size 432x288 with 1 Axes>"
      ]
     },
     "metadata": {
      "needs_background": "light"
     },
     "output_type": "display_data"
    }
   ],
   "source": [
    "plt.title('accuracy depends on initailization of parameter')\n",
    "plt.plot(range(0,10),test_acc_list[0],label='std')\n",
    "plt.plot(range(0,10),test_acc_list[1],label='Xavier')\n",
    "plt.plot(range(0,10),test_acc_list[2],label='He')\n",
    "plt.ylim((0,1))\n",
    "plt.xlim((0,9))\n",
    "plt.legend()"
   ]
  },
  {
   "cell_type": "markdown",
   "metadata": {},
   "source": [
    "### 배치 정규화/ 가중치 감소/ 드롭아웃 / 5-fold"
   ]
  },
  {
   "cell_type": "markdown",
   "metadata": {},
   "source": [
    "따로 파일을 만들어서 진행함."
   ]
  },
  {
   "cell_type": "code",
   "execution_count": null,
   "metadata": {},
   "outputs": [],
   "source": []
  }
 ],
 "metadata": {
  "kernelspec": {
   "display_name": "Python 3",
   "language": "python",
   "name": "python3"
  },
  "language_info": {
   "codemirror_mode": {
    "name": "ipython",
    "version": 3
   },
   "file_extension": ".py",
   "mimetype": "text/x-python",
   "name": "python",
   "nbconvert_exporter": "python",
   "pygments_lexer": "ipython3",
   "version": "3.8.5"
  }
 },
 "nbformat": 4,
 "nbformat_minor": 4
}
